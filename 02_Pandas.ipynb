{
 "cells": [
  {
   "cell_type": "markdown",
   "id": "1df3f982-732f-4133-af3c-0e94e2f0ab82",
   "metadata": {},
   "source": [
    "# Introducción a Pandas."
   ]
  },
  {
   "cell_type": "markdown",
   "id": "a8adb320-30e3-4421-9951-60fb5b3aa6c0",
   "metadata": {},
   "source": [
    "[Pandas](https://pandas.pydata.org/docs/) es una biblioteca que proporciona estructuras de datos y herramientas de análsis de alto rendimiento y faciles de usar.\n",
    "* La estructura de datos principal es el DataFrame, que puede considerarse como una tabla 2D en memoria (como una hoja de cálculo, nombres de columna y etiquetas de fila).\n",
    "* Muchas funciones disponibles en Excel estan disponibles mediante programación, como crear las tablas dinámicas, calcular columnas basadas en otras columnas, trazar gráficos, etc.\n",
    "* Proporciona un alto rendimiento para manipular (unir, dividir, modificar, etc.) grandes volumenes de datos."
   ]
  },
  {
   "cell_type": "markdown",
   "id": "74491a98-5b6a-439b-be07-5e0d7d2365e0",
   "metadata": {},
   "source": [
    " ## Import"
   ]
  },
  {
   "cell_type": "code",
   "execution_count": 1,
   "id": "e7249152-1423-4fca-89c3-f71e5cec9fd2",
   "metadata": {},
   "outputs": [],
   "source": [
    "import pandas as pd"
   ]
  },
  {
   "cell_type": "markdown",
   "id": "35c1a041-737a-4824-9681-de36ddfe42b3",
   "metadata": {},
   "source": [
    "### Estructuras de datos en Pandas"
   ]
  },
  {
   "cell_type": "markdown",
   "id": "d3660d59-3088-43bb-b5f9-cd112a8b232d",
   "metadata": {},
   "source": [
    "La biblioteca Pandas, de manera genérica, contiene las siguientes estructuras de datos:\n",
    "* **Series**: Array de una dimensión.\n",
    "* **DataFrame**: Se corresponde con una tabla de dos dimensiones.\n",
    "* **Panel**: Similar a un diccionario da DataFrames."
   ]
  },
  {
   "cell_type": "markdown",
   "id": "1a0d8912-a184-4980-94cd-7ac00d8898d2",
   "metadata": {},
   "source": [
    "### Creación del objeto Series"
   ]
  },
  {
   "cell_type": "code",
   "execution_count": 4,
   "id": "b0aa016a-d996-4b55-9559-c79c2ae37a35",
   "metadata": {},
   "outputs": [
    {
     "name": "stdout",
     "output_type": "stream",
     "text": [
      "0     2\n",
      "1     4\n",
      "2     6\n",
      "3     8\n",
      "4    10\n",
      "dtype: int64\n"
     ]
    }
   ],
   "source": [
    "# Creacion del objeto Series.\n",
    "s = pd.Series([2,4,6,8,10])\n",
    "print(s)"
   ]
  },
  {
   "cell_type": "code",
   "execution_count": 7,
   "id": "15103eb3-ca93-43d4-ac04-8fd969beb3b1",
   "metadata": {},
   "outputs": [
    {
     "name": "stdout",
     "output_type": "stream",
     "text": [
      "Emilio     169\n",
      "Anel       145\n",
      "Chucho     170\n",
      "Jocelin    170\n",
      "dtype: int64\n"
     ]
    }
   ],
   "source": [
    "# Creación de objeto series e inicializarlo con un diccionario de Python.\n",
    "Altura = {\n",
    "    \"Emilio\": 169,\n",
    "    \"Anel\": 145,\n",
    "    \"Chucho\":170,\n",
    "    \"Jocelin\":170,\n",
    "}\n",
    "s = pd.Series(Altura)\n",
    "print(s)"
   ]
  },
  {
   "cell_type": "code",
   "execution_count": 8,
   "id": "56eaa75d-8b37-49f2-a88c-72754edda90f",
   "metadata": {},
   "outputs": [
    {
     "name": "stdout",
     "output_type": "stream",
     "text": [
      "Jocelin    170\n",
      "Emilio     169\n",
      "dtype: int64\n"
     ]
    }
   ],
   "source": [
    "# Creación de un objeto series e inicializarlo con algunos elementos de un diccionario de python.\n",
    "Altura = {\n",
    "    \"Emilio\": 169,\n",
    "    \"Anel\": 145,\n",
    "    \"Chucho\":170,\n",
    "    \"Jocelin\":170,\n",
    "}\n",
    "s = pd.Series(Altura, index = [\"Jocelin\",\"Emilio\"])\n",
    "print(s)"
   ]
  },
  {
   "cell_type": "code",
   "execution_count": 9,
   "id": "caa30672-5bdb-47c7-a4c5-a0f81a52a05b",
   "metadata": {},
   "outputs": [
    {
     "name": "stdout",
     "output_type": "stream",
     "text": [
      "Num1    34\n",
      "Num2    34\n",
      "Num3    34\n",
      "Num4    34\n",
      "dtype: int64\n"
     ]
    }
   ],
   "source": [
    "# Creación de un objeto Series e inicializarlo con un escalar.\n",
    "s = pd.Series(34,[\"Num1\",\"Num2\", \"Num3\", \"Num4\"])\n",
    "print(s)"
   ]
  },
  {
   "cell_type": "markdown",
   "id": "938f1829-b49a-4bea-8793-4715b55f5bf9",
   "metadata": {},
   "source": [
    "### Acceso a los elementos de un Array\n",
    "Cada elemento en un objeto Series tiene un identificador que se donomina **index label** "
   ]
  },
  {
   "cell_type": "code",
   "execution_count": 12,
   "id": "d4360074-d38e-4bdc-beaf-e4735941ea0d",
   "metadata": {},
   "outputs": [
    {
     "name": "stdout",
     "output_type": "stream",
     "text": [
      "Num1    2\n",
      "Num2    4\n",
      "Num3    6\n",
      "Num4    8\n",
      "dtype: int64\n"
     ]
    }
   ],
   "source": [
    "# Crear un objeto Series\n",
    "s = pd.Series([2,4,6,8,], index = [\"Num1\", \"Num2\", \"Num3\", \"Num4\"])\n",
    "print(s)"
   ]
  }
 ],
 "metadata": {
  "kernelspec": {
   "display_name": "Python 3 (ipykernel)",
   "language": "python",
   "name": "python3"
  },
  "language_info": {
   "codemirror_mode": {
    "name": "ipython",
    "version": 3
   },
   "file_extension": ".py",
   "mimetype": "text/x-python",
   "name": "python",
   "nbconvert_exporter": "python",
   "pygments_lexer": "ipython3",
   "version": "3.9.19"
  }
 },
 "nbformat": 4,
 "nbformat_minor": 5
}
