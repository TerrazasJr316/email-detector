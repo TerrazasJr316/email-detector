{
 "cells": [
  {
   "cell_type": "markdown",
   "id": "1df3f982-732f-4133-af3c-0e94e2f0ab82",
   "metadata": {},
   "source": [
    "# Introducción a Pandas."
   ]
  },
  {
   "cell_type": "markdown",
   "id": "a8adb320-30e3-4421-9951-60fb5b3aa6c0",
   "metadata": {},
   "source": [
    "[Pandas](https://pandas.pydata.org/docs/) "
   ]
  }
 ],
 "metadata": {
  "kernelspec": {
   "display_name": "Python 3 (ipykernel)",
   "language": "python",
   "name": "python3"
  },
  "language_info": {
   "codemirror_mode": {
    "name": "ipython",
    "version": 3
   },
   "file_extension": ".py",
   "mimetype": "text/x-python",
   "name": "python",
   "nbconvert_exporter": "python",
   "pygments_lexer": "ipython3",
   "version": "3.9.19"
  }
 },
 "nbformat": 4,
 "nbformat_minor": 5
}
