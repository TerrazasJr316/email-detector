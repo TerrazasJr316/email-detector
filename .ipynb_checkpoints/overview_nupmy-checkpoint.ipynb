{
 "cells": [
  {
   "cell_type": "markdown",
   "id": "bad5cbab-d82b-4719-8abb-53c6a1833f92",
   "metadata": {},
   "source": [
    "# Introducción a Numpy"
   ]
  },
  {
   "cell_type": "markdown",
   "id": "79876cc9-ceea-4fcb-8b37-9941d1ec2fe7",
   "metadata": {},
   "source": [
    "[Numpy](https://numpy.org/doc/stable/) es una biblioteca fundamental para la computación científica con Python.\n",
    "\n",
    "* Proporciona arrays N-dimencionales.\n",
    "*Implementa funcines matematicas sofisticadas.\n",
    "* Proporciona herraminetas para integrarse C/C++ y Fortran.\n",
    "* Proporciona mecanismo para facilitar la realización de tareas relacionadas con álgebra lineal o números aleatorios."
   ]
  },
  {
   "cell_type": "markdown",
   "id": "00b77874-23e7-491f-a75d-8d9c5888780d",
   "metadata": {},
   "source": [
    "## Imports"
   ]
  },
  {
   "cell_type": "code",
   "execution_count": 1,
   "id": "b356dc9b-0796-44cd-acd7-80e5fb56417d",
   "metadata": {},
   "outputs": [],
   "source": [
    "import numpy as np"
   ]
  },
  {
   "cell_type": "markdown",
   "id": "7266356f-04a5-4284-a13b-3bd315634db9",
   "metadata": {},
   "source": [
    "## Arrays\n",
    "\n",
    "Un **array** es una estrcuctura de datos que consiste en una colección de elementos (valores o variables) cada uno identificado por almenos un índice o clave. Un array se alamacena de modo que la posición de cada elemento se pueda calcular a partir de sus tupla de índice mediante su fórmula matemática. El ipo más simple de un array es un array lineal, también llamado array unidimensional."
   ]
  },
  {
   "cell_type": "markdown",
   "id": "94c2d9be-a174-496e-a76d-87aee3ed7779",
   "metadata": {},
   "source": [
    "En Numpy:\n",
    "* Cada dimensión se denomina **axis**.\n",
    "* El número de dimensiones se denomina **rank**.\n",
    "* La lista de dimensiones con su correspondiente longitud se denomina **shape**.\n",
    "* El número total de elementos (multiplicación de la longitud de las dimensiones) se denomina, **size**."
   ]
  },
  {
   "cell_type": "code",
   "execution_count": 2,
   "id": "4ce43ddd-b117-42aa-9555-81516fca144e",
   "metadata": {},
   "outputs": [],
   "source": [
    "# Arrays cuyos valores son todos 0.\n",
    "\n",
    "a = np.zeros((2,4))"
   ]
  },
  {
   "cell_type": "code",
   "execution_count": 3,
   "id": "154860d7-779a-4041-8120-b5cc868359a1",
   "metadata": {},
   "outputs": [
    {
     "data": {
      "text/plain": [
       "array([[0., 0., 0., 0.],\n",
       "       [0., 0., 0., 0.]])"
      ]
     },
     "execution_count": 3,
     "metadata": {},
     "output_type": "execute_result"
    }
   ],
   "source": [
    "a"
   ]
  },
  {
   "cell_type": "markdown",
   "id": "3c365e49-6c30-4894-bba4-f742277c9d8d",
   "metadata": {},
   "source": [
    "_**a**_ es un array:\n",
    "* Con dos **axsis**, la primera de longitud 2 y el sgundo de longitus 4.\n",
    "* Con un **rank** igual a 2.\n",
    "* Con un **shape** igual (2,4).\n",
    "* Con un **size** igual a 8."
   ]
  },
  {
   "cell_type": "code",
   "execution_count": 4,
   "id": "d9dd5116-3c1c-41e9-90e6-b508791476f0",
   "metadata": {},
   "outputs": [
    {
     "data": {
      "text/plain": [
       "(2, 4)"
      ]
     },
     "execution_count": 4,
     "metadata": {},
     "output_type": "execute_result"
    }
   ],
   "source": [
    "a.shape"
   ]
  },
  {
   "cell_type": "code",
   "execution_count": 5,
   "id": "a2af298d-536f-49f0-95e1-610224ecc9bb",
   "metadata": {},
   "outputs": [
    {
     "data": {
      "text/plain": [
       "2"
      ]
     },
     "execution_count": 5,
     "metadata": {},
     "output_type": "execute_result"
    }
   ],
   "source": [
    "a.ndim"
   ]
  },
  {
   "cell_type": "code",
   "execution_count": 6,
   "id": "44412aa7-9621-4a6c-862b-4a31dd55fba4",
   "metadata": {},
   "outputs": [
    {
     "data": {
      "text/plain": [
       "8"
      ]
     },
     "execution_count": 6,
     "metadata": {},
     "output_type": "execute_result"
    }
   ],
   "source": [
    "a.size"
   ]
  },
  {
   "cell_type": "markdown",
   "id": "b2af127b-fc25-4e8c-81c4-7a1cd1fa8446",
   "metadata": {},
   "source": [
    "## Creación de arrays"
   ]
  },
  {
   "cell_type": "code",
   "execution_count": 7,
   "id": "94079aa8-44d9-44e7-9244-0523ff7b6267",
   "metadata": {},
   "outputs": [
    {
     "data": {
      "text/plain": [
       "array([[[0., 0., 0., 0.],\n",
       "        [0., 0., 0., 0.],\n",
       "        [0., 0., 0., 0.]],\n",
       "\n",
       "       [[0., 0., 0., 0.],\n",
       "        [0., 0., 0., 0.],\n",
       "        [0., 0., 0., 0.]]])"
      ]
     },
     "execution_count": 7,
     "metadata": {},
     "output_type": "execute_result"
    }
   ],
   "source": [
    "# Array cuyos valores son todos 0.\n",
    "\n",
    "np.zeros((2,3,4))"
   ]
  },
  {
   "cell_type": "code",
   "execution_count": 8,
   "id": "ac173435-f493-4640-809d-c44e4833a802",
   "metadata": {},
   "outputs": [
    {
     "data": {
      "text/plain": [
       "array([[[1., 1., 1., 1.],\n",
       "        [1., 1., 1., 1.],\n",
       "        [1., 1., 1., 1.]],\n",
       "\n",
       "       [[1., 1., 1., 1.],\n",
       "        [1., 1., 1., 1.],\n",
       "        [1., 1., 1., 1.]]])"
      ]
     },
     "execution_count": 8,
     "metadata": {},
     "output_type": "execute_result"
    }
   ],
   "source": [
    "# Arrays cuyos valores son todos 1.\n",
    "\n",
    "np.ones((2,3,4))"
   ]
  },
  {
   "cell_type": "code",
   "execution_count": 9,
   "id": "9820a555-ba5d-4aff-87ac-b1656fbae831",
   "metadata": {},
   "outputs": [
    {
     "data": {
      "text/plain": [
       "array([[[8, 8, 8, 8],\n",
       "        [8, 8, 8, 8],\n",
       "        [8, 8, 8, 8]],\n",
       "\n",
       "       [[8, 8, 8, 8],\n",
       "        [8, 8, 8, 8],\n",
       "        [8, 8, 8, 8]]])"
      ]
     },
     "execution_count": 9,
     "metadata": {},
     "output_type": "execute_result"
    }
   ],
   "source": [
    "# Array cuyos valores son todos el valor indicando como segundo parametro de la función\n",
    "\n",
    "np.full((2,3,4),8)"
   ]
  },
  {
   "cell_type": "code",
   "execution_count": 10,
   "id": "0fb17214-2fdd-4a45-9baa-033be08bb7b4",
   "metadata": {},
   "outputs": [
    {
     "data": {
      "text/plain": [
       "array([[[4.79097955e-310, 0.00000000e+000, 6.85933002e-310,\n",
       "         6.85933000e-310, 6.85932981e-310, 6.85932493e-310,\n",
       "         6.85932983e-310, 6.85932983e-310, 6.85933001e-310],\n",
       "        [6.85932973e-310, 6.85932493e-310, 6.85932493e-310,\n",
       "         6.85933002e-310, 6.85933002e-310, 6.85933003e-310,\n",
       "         6.85933003e-310, 6.85933003e-310, 6.85932493e-310],\n",
       "        [6.85932493e-310, 6.85932493e-310, 6.85932492e-310,\n",
       "         6.85932493e-310, 6.85932493e-310, 6.85932977e-310,\n",
       "         6.85932493e-310, 6.85932492e-310, 6.85932493e-310]],\n",
       "\n",
       "       [[6.85932982e-310, 6.85932983e-310, 6.85932983e-310,\n",
       "         6.85933002e-310, 6.85932786e-310, 6.85932969e-310,\n",
       "         6.85932493e-310, 6.85932493e-310, 6.85932493e-310],\n",
       "        [6.85932493e-310, 6.85932493e-310, 6.85932493e-310,\n",
       "         6.85933002e-310, 6.85932493e-310, 6.85932492e-310,\n",
       "         6.85933003e-310, 6.85932492e-310, 6.85932981e-310],\n",
       "        [6.85932981e-310, 6.85932947e-310, 6.85933003e-310,\n",
       "         6.85932981e-310, 6.85933003e-310, 6.85933003e-310,\n",
       "         6.85932984e-310, 6.85933003e-310, 6.85932981e-310]]])"
      ]
     },
     "execution_count": 10,
     "metadata": {},
     "output_type": "execute_result"
    }
   ],
   "source": [
    "# El resultado de np.empty no es predecible. Iicializa los valores del array con lo que haya en memoria en ese momento.\n",
    "\n",
    "np.empty((2,3,9))"
   ]
  },
  {
   "cell_type": "code",
   "execution_count": 11,
   "id": "266b676a-d1f3-4611-876e-68f8a3026e3c",
   "metadata": {},
   "outputs": [],
   "source": [
    "# Inicialización del array utilizando un array de Python.\n",
    "\n",
    "b = np.array([[1, 2, 3], [4, 5, 6]])"
   ]
  },
  {
   "cell_type": "code",
   "execution_count": 12,
   "id": "d1893726-81b7-49be-92af-fdf77a3598e6",
   "metadata": {},
   "outputs": [
    {
     "data": {
      "text/plain": [
       "array([[1, 2, 3],\n",
       "       [4, 5, 6]])"
      ]
     },
     "execution_count": 12,
     "metadata": {},
     "output_type": "execute_result"
    }
   ],
   "source": [
    "b"
   ]
  },
  {
   "cell_type": "code",
   "execution_count": 13,
   "id": "5384ee98-76f3-4a0a-80c2-d65aadeaafad",
   "metadata": {},
   "outputs": [
    {
     "data": {
      "text/plain": [
       "(2, 3)"
      ]
     },
     "execution_count": 13,
     "metadata": {},
     "output_type": "execute_result"
    }
   ],
   "source": [
    "b.shape"
   ]
  },
  {
   "cell_type": "code",
   "execution_count": 14,
   "id": "f19146eb-9508-4904-a64c-aec8bcb41ea5",
   "metadata": {},
   "outputs": [
    {
     "name": "stdout",
     "output_type": "stream",
     "text": [
      "[0.         0.66666667 1.33333333 2.         2.66666667 3.33333333\n",
      " 4.         4.66666667 5.33333333 6.        ]\n"
     ]
    }
   ],
   "source": [
    "# Crear un array utilizando una función basada en rangos.\n",
    "# (mínimo, máximo, número de elementos del array).\n",
    "\n",
    "print(np.linspace(0, 6, 10))"
   ]
  },
  {
   "cell_type": "code",
   "execution_count": 15,
   "id": "607fd3c7-fddc-4155-84e4-d91ff810ae8d",
   "metadata": {},
   "outputs": [
    {
     "data": {
      "text/plain": [
       "array([[[7.98482137e-01, 8.27696124e-01, 1.63111563e-01, 1.49307315e-01],\n",
       "        [3.35877105e-01, 8.84026842e-01, 4.74805896e-01, 2.19718699e-01],\n",
       "        [1.26885989e-01, 8.33803294e-01, 6.16199960e-01, 7.95757963e-01]],\n",
       "\n",
       "       [[8.98381866e-01, 8.97714317e-01, 5.06622263e-03, 9.73069178e-01],\n",
       "        [4.68950261e-02, 6.41978208e-04, 8.12114841e-02, 4.27089005e-01],\n",
       "        [3.92856608e-01, 4.46297945e-01, 7.02958708e-01, 5.90437266e-01]]])"
      ]
     },
     "execution_count": 15,
     "metadata": {},
     "output_type": "execute_result"
    }
   ],
   "source": [
    "# Inicializar un array con valores aleatorios.\n",
    "\n",
    "np.random.rand(2, 3, 4)"
   ]
  },
  {
   "cell_type": "code",
   "execution_count": 16,
   "id": "027b7f1b-4005-4148-9a62-768220923a34",
   "metadata": {},
   "outputs": [
    {
     "data": {
      "text/plain": [
       "array([[ 0.26683522,  0.05079143,  0.79030921, -1.69167153],\n",
       "       [-0.83968165,  1.22861349, -1.28715631, -0.66877311]])"
      ]
     },
     "execution_count": 16,
     "metadata": {},
     "output_type": "execute_result"
    }
   ],
   "source": [
    "# Inicializar un array con valores aleatorios conforme a una distribución normal.\n",
    "\n",
    "np.random.randn(2,4)"
   ]
  },
  {
   "cell_type": "code",
   "execution_count": 17,
   "id": "7cfde9ec-1f08-4cf0-a57d-6478b042cc27",
   "metadata": {},
   "outputs": [
    {
     "data": {
      "image/png": "[encoded data removed]",
      "text/plain": [
       "<Figure size 640x480 with 1 Axes>"
      ]
     },
     "metadata": {},
     "output_type": "display_data"
    }
   ],
   "source": [
    "%matplotlib inline\n",
    "import matplotlib.pyplot as plt\n",
    "\n",
    "c = np.random.randn(100000)\n",
    "\n",
    "plt.hist(c, bins=500)\n",
    "plt.show()"
   ]
  },
  {
   "cell_type": "code",
   "execution_count": 18,
   "id": "00a824f5-2586-4b3c-b542-315ccd7a9b74",
   "metadata": {},
   "outputs": [
    {
     "data": {
      "text/plain": [
       "array([[ 0.,  2.,  4.,  6.,  8.],\n",
       "       [ 1.,  3.,  5.,  7.,  9.],\n",
       "       [ 2.,  4.,  6.,  8., 10.]])"
      ]
     },
     "execution_count": 18,
     "metadata": {},
     "output_type": "execute_result"
    }
   ],
   "source": [
    "# Inicializar un array utilizando una función perzoanaliza\n",
    "\n",
    "def func(x, y):\n",
    "    return x + 2 * y\n",
    "\n",
    "np.fromfunction(func,(3,5))"
   ]
  },
  {
   "cell_type": "markdown",
   "id": "fc5f2b98-e2b7-429c-b5da-eef0e829a6c4",
   "metadata": {},
   "source": [
    "## Acceso a los elementos de un Array\n",
    "### Array Unidimensional"
   ]
  },
  {
   "cell_type": "code",
   "execution_count": 19,
   "id": "35b0e80f-71b0-4b5a-8228-9fc046e162a1",
   "metadata": {},
   "outputs": [
    {
     "name": "stdout",
     "output_type": "stream",
     "text": [
      "Shape: (6,)\n",
      "Array_uni [ 1  3  5  7  9 11]\n"
     ]
    }
   ],
   "source": [
    "# Crear un Array Unidimensional\n",
    "array_uni = np.array([1, 3, 5, 7, 9, 11])\n",
    "print(\"Shape:\", array_uni.shape)\n",
    "print(\"Array_uni\", array_uni)"
   ]
  },
  {
   "cell_type": "code",
   "execution_count": 20,
   "id": "56e28480-a449-40fe-8f72-5ffb4074a1c4",
   "metadata": {},
   "outputs": [
    {
     "data": {
      "text/plain": [
       "np.int64(9)"
      ]
     },
     "execution_count": 20,
     "metadata": {},
     "output_type": "execute_result"
    }
   ],
   "source": [
    "# Accediendo al quinto elemento del array\n",
    "\n",
    "array_uni[4]"
   ]
  },
  {
   "cell_type": "code",
   "execution_count": 21,
   "id": "ce94f1ed-dd51-4160-afeb-9bf2387a1ecd",
   "metadata": {},
   "outputs": [
    {
     "data": {
      "text/plain": [
       "array([5, 7])"
      ]
     },
     "execution_count": 21,
     "metadata": {},
     "output_type": "execute_result"
    }
   ],
   "source": [
    "# Acceder al cuarto y quinto elemento del array\n",
    "\n",
    "array_uni[2:4]"
   ]
  },
  {
   "cell_type": "code",
   "execution_count": 22,
   "id": "f1a1ca22-abe3-4db4-953c-9f4627f59604",
   "metadata": {},
   "outputs": [
    {
     "data": {
      "text/plain": [
       "array([ 1,  7, 11])"
      ]
     },
     "execution_count": 22,
     "metadata": {},
     "output_type": "execute_result"
    }
   ],
   "source": [
    "# Acceder al elemento 0, 3 y 5 del Array.\n",
    "\n",
    "array_uni[[0, 3,5]]"
   ]
  },
  {
   "cell_type": "markdown",
   "id": "1dfcee14-21ea-4635-9b41-5b5b3d751c22",
   "metadata": {},
   "source": [
    "### Array Multidimensional"
   ]
  },
  {
   "cell_type": "code",
   "execution_count": 23,
   "id": "d8bf5fa4-7a8e-4483-9cb1-fafa2e6b3f25",
   "metadata": {},
   "outputs": [
    {
     "name": "stdout",
     "output_type": "stream",
     "text": [
      "Shape: (2, 4)\n",
      "Array_multi: \n",
      " [[1 2 3 4]\n",
      " [5 6 7 8]]\n"
     ]
    }
   ],
   "source": [
    "# Crear un Array Multidimensional\n",
    "\n",
    "array_multi = np.array([[1 , 2, 3, 4],[5, 6, 7, 8]])\n",
    "print(\"Shape:\", array_multi.shape)\n",
    "print(\"Array_multi: \\n\", array_multi)"
   ]
  },
  {
   "cell_type": "code",
   "execution_count": 24,
   "id": "5bb78ac7-0614-472d-9d06-12634d329e38",
   "metadata": {},
   "outputs": [
    {
     "data": {
      "text/plain": [
       "np.int64(4)"
      ]
     },
     "execution_count": 24,
     "metadata": {},
     "output_type": "execute_result"
    }
   ],
   "source": [
    "# Acceder al cuerto elemento del Array\n",
    "\n",
    "array_multi[0,3]"
   ]
  },
  {
   "cell_type": "code",
   "execution_count": 25,
   "id": "1e90dc52-140a-4d9d-9e39-f03cd5fc09e4",
   "metadata": {},
   "outputs": [
    {
     "data": {
      "text/plain": [
       "array([[5, 6, 7, 8]])"
      ]
     },
     "execution_count": 25,
     "metadata": {},
     "output_type": "execute_result"
    }
   ],
   "source": [
    "# Acceder a la segunda final del Array\n",
    "\n",
    "array_multi[1 :]"
   ]
  },
  {
   "cell_type": "code",
   "execution_count": 26,
   "id": "f902664a-6b26-49d7-be60-4728b3089084",
   "metadata": {},
   "outputs": [
    {
     "data": {
      "text/plain": [
       "array([3, 7])"
      ]
     },
     "execution_count": 26,
     "metadata": {},
     "output_type": "execute_result"
    }
   ],
   "source": [
    "# Acceder al tercer elemento de las primeras filas del Array\n",
    "\n",
    "array_multi[0:2,2]"
   ]
  },
  {
   "cell_type": "markdown",
   "id": "7de17b70-8bd9-4d18-88e6-7d2d4de0c5c6",
   "metadata": {},
   "source": [
    "## Modificar un Array"
   ]
  },
  {
   "cell_type": "code",
   "execution_count": 27,
   "id": "7e94a3a0-06da-4607-8715-46da72cbe735",
   "metadata": {},
   "outputs": [
    {
     "name": "stdout",
     "output_type": "stream",
     "text": [
      "Shape: (28,)\n",
      "Array 1: \n",
      " [ 0  1  2  3  4  5  6  7  8  9 10 11 12 13 14 15 16 17 18 19 20 21 22 23\n",
      " 24 25 26 27]\n"
     ]
    }
   ],
   "source": [
    "# Crear un Array unidimencional e inicializarlo con el rango de elementos del 0 - 27.\n",
    "\n",
    "array1  = np.arange(28)\n",
    "print(\"Shape:\", array1.shape)\n",
    "print(\"Array 1: \\n\", array1)"
   ]
  },
  {
   "cell_type": "code",
   "execution_count": 28,
   "id": "3378f720-a54c-45c3-874d-c405096b45dd",
   "metadata": {},
   "outputs": [
    {
     "name": "stdout",
     "output_type": "stream",
     "text": [
      "Shape: (7, 4)\n",
      "Array_multi: \n",
      " [[ 0  1  2  3]\n",
      " [ 4  5  6  7]\n",
      " [ 8  9 10 11]\n",
      " [12 13 14 15]\n",
      " [16 17 18 19]\n",
      " [20 21 22 23]\n",
      " [24 25 26 27]]\n"
     ]
    }
   ],
   "source": [
    "# Cambiar las dimensiones del Array y sus longitudes\n",
    "\n",
    "array1.shape = (7, 4)\n",
    "print(\"Shape:\", array1.shape)\n",
    "print(\"Array_multi: \\n\", array1)"
   ]
  },
  {
   "cell_type": "code",
   "execution_count": 29,
   "id": "f8ce356a-b9be-451e-bac7-e63806d3a2e8",
   "metadata": {},
   "outputs": [
    {
     "name": "stdout",
     "output_type": "stream",
     "text": [
      "Shape: (4, 7)\n",
      "Array 2: \n",
      " [[ 0  1  2  3  4  5  6]\n",
      " [ 7  8  9 10 11 12 13]\n",
      " [14 15 16 17 18 19 20]\n",
      " [21 22 23 24 25 26 27]]\n",
      "Shape: (7, 4)\n",
      "Array 1i: \n",
      " [[ 0  1  2  3]\n",
      " [ 4  5  6  7]\n",
      " [ 8  9 10 11]\n",
      " [12 13 14 15]\n",
      " [16 17 18 19]\n",
      " [20 21 22 23]\n",
      " [24 25 26 27]]\n"
     ]
    }
   ],
   "source": [
    "# El ejemplo anterior devuelve un nuevo Array que apunta a los mismo datos\n",
    "# IMPORTANTE: Las modificaciones de un Array, modificacrán el otro array\n",
    "\n",
    "array2 = array1.reshape(4,7)\n",
    "print(\"Shape:\", array2.shape)\n",
    "print(\"Array 2: \\n\", array2)\n",
    "\n",
    "print(\"Shape:\", array1.shape)\n",
    "print(\"Array 1i: \\n\", array1)"
   ]
  },
  {
   "cell_type": "code",
   "execution_count": 30,
   "id": "078a9287-778f-4f03-919a-5dfa653acdd4",
   "metadata": {},
   "outputs": [
    {
     "name": "stdout",
     "output_type": "stream",
     "text": [
      "Array 2: \n",
      " [[ 0  1  2 20  4  5  6]\n",
      " [ 7  8  9 10 11 12 13]\n",
      " [14 15 16 17 18 19 20]\n",
      " [21 22 23 24 25 26 27]]\n",
      "Array 1: \n",
      " [[ 0  1  2 20]\n",
      " [ 4  5  6  7]\n",
      " [ 8  9 10 11]\n",
      " [12 13 14 15]\n",
      " [16 17 18 19]\n",
      " [20 21 22 23]\n",
      " [24 25 26 27]]\n"
     ]
    }
   ],
   "source": [
    "# Modificar el nuevo array devuelto.\n",
    "\n",
    "array2[0,3] = 20\n",
    "print(\"Array 2: \\n\", array2)\n",
    "print(\"Array 1: \\n\", array1)"
   ]
  },
  {
   "cell_type": "code",
   "execution_count": 31,
   "id": "b81e31f9-9a16-42b6-a587-be08d2b7fa5e",
   "metadata": {},
   "outputs": [
    {
     "name": "stdout",
     "output_type": "stream",
     "text": [
      "Array 1: \n",
      " [ 0  1  2 20  4  5  6  7  8  9 10 11 12 13 14 15 16 17 18 19 20 21 22 23\n",
      " 24 25 26 27]\n"
     ]
    }
   ],
   "source": [
    "# Regresar el array devolviendo un nuevo Array de una sola dimension\n",
    "# IMPORTANTE: El nuevo Array apunta a los mismos datos.\n",
    "\n",
    "print(\"Array 1: \\n\", array1.ravel())"
   ]
  },
  {
   "cell_type": "markdown",
   "id": "ce4d1e1d-0bd6-4e67-9437-629e538a46bf",
   "metadata": {},
   "source": [
    "## Operaciones Aritméticas con Arrays"
   ]
  },
  {
   "cell_type": "code",
   "execution_count": 33,
   "id": "627e9796-92a0-4e13-8f39-4f4fa83230e0",
   "metadata": {},
   "outputs": [
    {
     "name": "stdout",
     "output_type": "stream",
     "text": [
      "Array 1: [ 2  4  6  8 10 12 14 16]\n",
      "Array 2: [0 1 2 3 4 5 6 7]\n"
     ]
    }
   ],
   "source": [
    "# Crear 2 Arrays unidimensionales\n",
    "array1 = np.arange(2, 18, 2)\n",
    "array2 = np.arange(8)\n",
    "print('Array 1:', array1)\n",
    "print('Array 2:', array2)"
   ]
  },
  {
   "cell_type": "code",
   "execution_count": 34,
   "id": "0cc6cf19-008b-4152-baca-8615415e0090",
   "metadata": {},
   "outputs": [
    {
     "name": "stdout",
     "output_type": "stream",
     "text": [
      "[ 2  5  8 11 14 17 20 23]\n"
     ]
    }
   ],
   "source": [
    "# Suma\n",
    "print(array1 + array2)"
   ]
  },
  {
   "cell_type": "code",
   "execution_count": 35,
   "id": "163f9cbd-f868-4654-8c2b-47e6dca0af96",
   "metadata": {},
   "outputs": [
    {
     "name": "stdout",
     "output_type": "stream",
     "text": [
      "[2 3 4 5 6 7 8 9]\n"
     ]
    }
   ],
   "source": [
    "# Resta\n",
    "print(array1 - array2)"
   ]
  },
  {
   "cell_type": "code",
   "execution_count": 37,
   "id": "d666e654-7cc1-4039-913d-196ffc6c559a",
   "metadata": {},
   "outputs": [
    {
     "name": "stdout",
     "output_type": "stream",
     "text": [
      "[  0   4  12  24  40  60  84 112]\n"
     ]
    }
   ],
   "source": [
    "# Multiplicación\n",
    "# Importante: NO es una multiplicación de matrices.\n",
    "print(array1 * array2)"
   ]
  },
  {
   "cell_type": "markdown",
   "id": "ccfcd595-93bd-4e76-ae5e-bb15d415e81c",
   "metadata": {},
   "source": [
    "## Broadcasting\n",
    "\n",
    "Si se aplican operaciones aritméticas sobre arrays que no tienen la misma forma (Shape), Numpy aplica una propiedad que se denomina Broadcasting."
   ]
  },
  {
   "cell_type": "code",
   "execution_count": 40,
   "id": "82979e18-2ba5-4bde-90cc-74404a44dbb2",
   "metadata": {},
   "outputs": [
    {
     "name": "stdout",
     "output_type": "stream",
     "text": [
      "Shape Array 1:  (5,)\n",
      "Array 1:  [0 1 2 3 4]\n",
      "\n",
      "Shape Array 2:  (1,)\n",
      "Array 2:  [3]\n",
      "\n"
     ]
    }
   ],
   "source": [
    "# Crear dos Arrays unidimensionales\n",
    "array1 = np.arange(5)\n",
    "array2 = np.array([3])\n",
    "print('Shape Array 1: ', array1.shape)\n",
    "print('Array 1: ', array1)\n",
    "print(\"\")\n",
    "print('Shape Array 2: ', array2.shape)\n",
    "print('Array 2: ', array2)\n",
    "print(\"\")\n"
   ]
  },
  {
   "cell_type": "code",
   "execution_count": 42,
   "id": "ac0c70b5-dcd5-4f6c-bfc9-814303fb4607",
   "metadata": {},
   "outputs": [
    {
     "data": {
      "text/plain": [
       "array([3, 4, 5, 6, 7])"
      ]
     },
     "execution_count": 42,
     "metadata": {},
     "output_type": "execute_result"
    }
   ],
   "source": [
    "# Suma de ambos Arrays\n",
    "array1 + array2"
   ]
  },
  {
   "cell_type": "code",
   "execution_count": 44,
   "id": "7069d10b-ee91-4622-b712-2d497b27ea94",
   "metadata": {},
   "outputs": [
    {
     "name": "stdout",
     "output_type": "stream",
     "text": [
      "Shape Array 1:  (2, 3)\n",
      "Array 1: \n",
      " [[0 1 2]\n",
      " [3 4 5]]\n",
      "\n",
      "Shape Array 2:  (3,)\n",
      "Array 2 :\n",
      " [ 8 12 16]\n",
      "\n"
     ]
    }
   ],
   "source": [
    "# Crear dos Arrays multidimensionale y unidimensional\n",
    "array1 = np.arange(6)\n",
    "array1.shape = (2, 3)\n",
    "array2 = np.arange(8, 18 , 4)\n",
    "print('Shape Array 1: ', array1.shape)\n",
    "print('Array 1: \\n', array1)\n",
    "print(\"\")\n",
    "print('Shape Array 2: ', array2.shape)\n",
    "print('Array 2 :\\n', array2)\n",
    "print(\"\")"
   ]
  },
  {
   "cell_type": "code",
   "execution_count": 45,
   "id": "2ee77e79-240e-4ddc-89c8-f4c45a83da67",
   "metadata": {},
   "outputs": [
    {
     "data": {
      "text/plain": [
       "array([[ 8, 13, 18],\n",
       "       [11, 16, 21]])"
      ]
     },
     "execution_count": 45,
     "metadata": {},
     "output_type": "execute_result"
    }
   ],
   "source": [
    "# Sumar ambos Arrays\n",
    "array1 + array2"
   ]
  },
  {
   "cell_type": "markdown",
   "id": "6ac09076-2630-45d7-8e40-006a998327fd",
   "metadata": {},
   "source": [
    "## Funciones Estadísticas sobre Arrays"
   ]
  },
  {
   "cell_type": "code",
   "execution_count": 47,
   "id": "d2b941b4-627d-47b5-8024-c60063c45a43",
   "metadata": {},
   "outputs": [
    {
     "name": "stdout",
     "output_type": "stream",
     "text": [
      "Array 1: [ 1  3  5  7  9 11 13 15 17 19]\n"
     ]
    }
   ],
   "source": [
    "# Crear un array unidimensional\n",
    "array1 = np.arange(1, 20, 2)\n",
    "print('Array 1:', array1)"
   ]
  },
  {
   "cell_type": "code",
   "execution_count": 49,
   "id": "71e7a9d3-efa1-4a99-8652-2e8313b03a56",
   "metadata": {},
   "outputs": [
    {
     "data": {
      "text/plain": [
       "np.float64(10.0)"
      ]
     },
     "execution_count": 49,
     "metadata": {},
     "output_type": "execute_result"
    }
   ],
   "source": [
    "# Media de los elementos del Array\n",
    "array1.mean()"
   ]
  },
  {
   "cell_type": "code",
   "execution_count": 50,
   "id": "93e72904-4f4b-452f-97bc-2bda50035193",
   "metadata": {},
   "outputs": [
    {
     "data": {
      "text/plain": [
       "np.int64(100)"
      ]
     },
     "execution_count": 50,
     "metadata": {},
     "output_type": "execute_result"
    }
   ],
   "source": [
    "# Suma de los elementos del Array\n",
    "array1.sum()"
   ]
  },
  {
   "cell_type": "markdown",
   "id": "d75ce838-6942-49c8-8f09-72ba6b736ccd",
   "metadata": {},
   "source": [
    "### Funciones Universales efucientes proporcionadas por Numpy: **unfunc**"
   ]
  },
  {
   "cell_type": "code",
   "execution_count": 51,
   "id": "c9305bb1-0e39-45f8-b595-d392f912b907",
   "metadata": {},
   "outputs": [
    {
     "data": {
      "text/plain": [
       "array([  1,   9,  25,  49,  81, 121, 169, 225, 289, 361])"
      ]
     },
     "execution_count": 51,
     "metadata": {},
     "output_type": "execute_result"
    }
   ],
   "source": [
    "# Cuadrado de los elementos del Array\n",
    "np.square(array1)"
   ]
  },
  {
   "cell_type": "code",
   "execution_count": 52,
   "id": "147e2e78-63c9-41d7-9986-fa8d03f91429",
   "metadata": {},
   "outputs": [
    {
     "data": {
      "text/plain": [
       "array([1.        , 1.73205081, 2.23606798, 2.64575131, 3.        ,\n",
       "       3.31662479, 3.60555128, 3.87298335, 4.12310563, 4.35889894])"
      ]
     },
     "execution_count": 52,
     "metadata": {},
     "output_type": "execute_result"
    }
   ],
   "source": [
    "# Raiz Cuadrada de los elementos\n",
    "np.sqrt(array1)"
   ]
  },
  {
   "cell_type": "code",
   "execution_count": 53,
   "id": "bca1ef67-326f-467b-9278-af08ab6d5f3c",
   "metadata": {},
   "outputs": [
    {
     "data": {
      "text/plain": [
       "array([2.71828183e+00, 2.00855369e+01, 1.48413159e+02, 1.09663316e+03,\n",
       "       8.10308393e+03, 5.98741417e+04, 4.42413392e+05, 3.26901737e+06,\n",
       "       2.41549528e+07, 1.78482301e+08])"
      ]
     },
     "execution_count": 53,
     "metadata": {},
     "output_type": "execute_result"
    }
   ],
   "source": [
    "# Exponencial de los elementos del Array\n",
    "np.exp(array1)"
   ]
  },
  {
   "cell_type": "code",
   "execution_count": 55,
   "id": "f0f4ccee-5306-410c-b733-e02df71cc489",
   "metadata": {},
   "outputs": [
    {
     "data": {
      "text/plain": [
       "array([0.        , 1.09861229, 1.60943791, 1.94591015, 2.19722458,\n",
       "       2.39789527, 2.56494936, 2.7080502 , 2.83321334, 2.94443898])"
      ]
     },
     "execution_count": 55,
     "metadata": {},
     "output_type": "execute_result"
    }
   ],
   "source": [
    "# Log de los elementos del Arrat\n",
    "np.log(array1)"
   ]
  }
 ],
 "metadata": {
  "kernelspec": {
   "display_name": "Python 3 (ipykernel)",
   "language": "python",
   "name": "python3"
  },
  "language_info": {
   "codemirror_mode": {
    "name": "ipython",
    "version": 3
   },
   "file_extension": ".py",
   "mimetype": "text/x-python",
   "name": "python",
   "nbconvert_exporter": "python",
   "pygments_lexer": "ipython3",
   "version": "3.10.13"
  }
 },
 "nbformat": 4,
 "nbformat_minor": 5
}
