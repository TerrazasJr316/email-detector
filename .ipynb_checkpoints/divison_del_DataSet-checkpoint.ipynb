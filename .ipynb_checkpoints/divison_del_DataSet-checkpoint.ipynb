{
 "cells": [
  {
   "cell_type": "markdown",
   "id": "febaba78-1c94-4406-8486-6690339360be",
   "metadata": {},
   "source": [
    "# 1.- Divisón del DataSet\n",
    "\n",
    "En este notebook se muestran algunos de los mecanismos mas utilizados para la división del DataSet."
   ]
  },
  {
   "cell_type": "markdown",
   "id": "400d9668-c52c-491c-9faf-b47a6e9ff588",
   "metadata": {},
   "source": [
    "## DataSet\n",
    "\n",
    "### Abstract\n",
    "\n",
    "NSL-KDD is a data set suggested to solve some of the inherent problems of the KDD'99 data set which are mentioned in [1]. Although, this new version of the KDD data set still suffers from some of the problems discussed by McHugh [2] and may not be a perfect representative of existing real networks, because of the lack of public data sets for network-based IDSs, we believe it still can be applied as an effective benchmark data set to help researchers compare different intrusion detection methods. Furthermore, the number of records in the NSL-KDD train and test sets are reasonable. This advantage makes it affordable to run the experiments on the complete set without the need to randomly select a small portion. Consequently, evaluation results of different research work will be consistent and comparable.\n",
    "\n",
    "### Data Files\n",
    "\n",
    "* <span style=\"color:green\"> **KDDTrain+.ARFF** - The full NSL-KDD train set with binary labels in ARFF format </span>\n",
    "\n",
    "* KDDTrain+.TXT - The full NSL-KDD train set including attack-type labels and difficulty level in CSV format\n",
    "\n",
    "* KDDTrain+_20Percent.ARFF - A 20% subset of the KDDTrain+.arff file\n",
    "\n",
    "* KDDTrain+_20Percent.TXT - A 20% subset of the KDDTrain+.txt file\n",
    "\n",
    "* KDDTest+.ARFF - The full NSL-KDD test set with binary labels in ARFF format\n",
    "\n",
    "* KDDTest+.TXT - The full NSL-KDD test set including attack-type labels and difficulty level in CSV format\n",
    "\n",
    "* KDDTest-21.ARFF - A subset of the KDDTest+.arff file which does not include records with difficulty level of 21 out of 21\n",
    "\n",
    "* KDDTest-21.TXT - A subset of the KDDTest+.txt file which does not include records with difficulty level of 21 out of 21\n",
    "\n",
    "### Descargar los ficheros\n",
    "\n",
    "https://www.unb.ca/cic/datasets/nsl.html\n",
    "\n",
    "### Referencias adicionales sobre el DataSet\n",
    "\n",
    "_References: [1] M. Tavallaee, E. Bagheri, W. Lu, and A. Ghorbani, “A Detailed Analysis of the KDD CUP 99 Data Set,” Submitted to Second IEEE Symposium on Computational Intelligence for Security and Defense Applications (CISDA), 2009._"
   ]
  },
  {
   "cell_type": "markdown",
   "id": "e764910e-69bc-46c5-b003-12bb46912a67",
   "metadata": {},
   "source": [
    "## 1. Lectura del DataSet "
   ]
  },
  {
   "cell_type": "markdown",
   "id": "dd4747db-e44d-4da5-8142-1e1a2b6eadf9",
   "metadata": {},
   "source": [
    "### Imports"
   ]
  },
  {
   "cell_type": "code",
   "execution_count": 1,
   "id": "dbb7e378-dd11-4f9b-86ed-cbf60cc68f12",
   "metadata": {},
   "outputs": [],
   "source": [
    "import arff\n",
    "import pandas as pd"
   ]
  },
  {
   "cell_type": "code",
   "execution_count": 2,
   "id": "d8c02056-239e-4a3e-8648-bafe4e612132",
   "metadata": {},
   "outputs": [],
   "source": [
    "# Función de lectura del DataSet\n",
    "\n",
    "def load_kdd_dataset (data_path):\n",
    "    \"\"\" Lectura del DataSet \"\"\"\n",
    "    with open(data_path, 'r') as train_set:\n",
    "        dataset = arff.load(train_set)\n",
    "    attributes = [attr[0] for attr in dataset['attributes']]\n",
    "    return pd.DataFrame(dataset['data'], columns = attributes)"
   ]
  },
  {
   "cell_type": "code",
   "execution_count": 3,
   "id": "f637feed-de1b-4e6e-ac42-4ffce54418d6",
   "metadata": {},
   "outputs": [],
   "source": [
    "df = load_kdd_dataset(\"ALERT/datasets/datasets/NSL-KDD/KDDTrain+.arff\")"
   ]
  },
  {
   "cell_type": "code",
   "execution_count": 4,
   "id": "48faacaf-165d-4272-9af7-a66205bf93b8",
   "metadata": {},
   "outputs": [
    {
     "name": "stdout",
     "output_type": "stream",
     "text": [
      "<class 'pandas.core.frame.DataFrame'>\n",
      "RangeIndex: 125973 entries, 0 to 125972\n",
      "Data columns (total 42 columns):\n",
      " #   Column                       Non-Null Count   Dtype  \n",
      "---  ------                       --------------   -----  \n",
      " 0   duration                     125973 non-null  float64\n",
      " 1   protocol_type                125973 non-null  object \n",
      " 2   service                      125973 non-null  object \n",
      " 3   flag                         125973 non-null  object \n",
      " 4   src_bytes                    125973 non-null  float64\n",
      " 5   dst_bytes                    125973 non-null  float64\n",
      " 6   land                         125973 non-null  object \n",
      " 7   wrong_fragment               125973 non-null  float64\n",
      " 8   urgent                       125973 non-null  float64\n",
      " 9   hot                          125973 non-null  float64\n",
      " 10  num_failed_logins            125973 non-null  float64\n",
      " 11  logged_in                    125973 non-null  object \n",
      " 12  num_compromised              125973 non-null  float64\n",
      " 13  root_shell                   125973 non-null  float64\n",
      " 14  su_attempted                 125973 non-null  float64\n",
      " 15  num_root                     125973 non-null  float64\n",
      " 16  num_file_creations           125973 non-null  float64\n",
      " 17  num_shells                   125973 non-null  float64\n",
      " 18  num_access_files             125973 non-null  float64\n",
      " 19  num_outbound_cmds            125973 non-null  float64\n",
      " 20  is_host_login                125973 non-null  object \n",
      " 21  is_guest_login               125973 non-null  object \n",
      " 22  count                        125973 non-null  float64\n",
      " 23  srv_count                    125973 non-null  float64\n",
      " 24  serror_rate                  125973 non-null  float64\n",
      " 25  srv_serror_rate              125973 non-null  float64\n",
      " 26  rerror_rate                  125973 non-null  float64\n",
      " 27  srv_rerror_rate              125973 non-null  float64\n",
      " 28  same_srv_rate                125973 non-null  float64\n",
      " 29  diff_srv_rate                125973 non-null  float64\n",
      " 30  srv_diff_host_rate           125973 non-null  float64\n",
      " 31  dst_host_count               125973 non-null  float64\n",
      " 32  dst_host_srv_count           125973 non-null  float64\n",
      " 33  dst_host_same_srv_rate       125973 non-null  float64\n",
      " 34  dst_host_diff_srv_rate       125973 non-null  float64\n",
      " 35  dst_host_same_src_port_rate  125973 non-null  float64\n",
      " 36  dst_host_srv_diff_host_rate  125973 non-null  float64\n",
      " 37  dst_host_serror_rate         125973 non-null  float64\n",
      " 38  dst_host_srv_serror_rate     125973 non-null  float64\n",
      " 39  dst_host_rerror_rate         125973 non-null  float64\n",
      " 40  dst_host_srv_rerror_rate     125973 non-null  float64\n",
      " 41  class                        125973 non-null  object \n",
      "dtypes: float64(34), object(8)\n",
      "memory usage: 40.4+ MB\n"
     ]
    }
   ],
   "source": [
    "df.info()"
   ]
  },
  {
   "cell_type": "markdown",
   "id": "70b4dea8-586b-41d8-bbc2-13266705eba7",
   "metadata": {},
   "source": [
    "## 2. División del DataSet\n",
    "\n",
    "Se debe separar el DataSet en los diferentes subconjuntos necesarios para realizar los procesos de entrenamiento, validación y prubea. Scikitlearn tiene implementada la función **split_train_set**"
   ]
  },
  {
   "cell_type": "code",
   "execution_count": 5,
   "id": "4b2d3d23-97c4-4a2e-babf-ca92b93ad95b",
   "metadata": {},
   "outputs": [],
   "source": [
    "# Separar el DataSet, 60& para el train_set y 40% para el test_set\n",
    "\n",
    "from sklearn.model_selection import train_test_split\n",
    "\n",
    "train_set, test_set = train_test_split(df, test_size = 0.4, random_state = 42 ) # Variables de entrada de la función "
   ]
  },
  {
   "cell_type": "code",
   "execution_count": 6,
   "id": "0d9aeb89-f708-4c3d-85a3-31edfd5d7d08",
   "metadata": {},
   "outputs": [
    {
     "name": "stdout",
     "output_type": "stream",
     "text": [
      "<class 'pandas.core.frame.DataFrame'>\n",
      "Index: 75583 entries, 98320 to 121958\n",
      "Data columns (total 42 columns):\n",
      " #   Column                       Non-Null Count  Dtype  \n",
      "---  ------                       --------------  -----  \n",
      " 0   duration                     75583 non-null  float64\n",
      " 1   protocol_type                75583 non-null  object \n",
      " 2   service                      75583 non-null  object \n",
      " 3   flag                         75583 non-null  object \n",
      " 4   src_bytes                    75583 non-null  float64\n",
      " 5   dst_bytes                    75583 non-null  float64\n",
      " 6   land                         75583 non-null  object \n",
      " 7   wrong_fragment               75583 non-null  float64\n",
      " 8   urgent                       75583 non-null  float64\n",
      " 9   hot                          75583 non-null  float64\n",
      " 10  num_failed_logins            75583 non-null  float64\n",
      " 11  logged_in                    75583 non-null  object \n",
      " 12  num_compromised              75583 non-null  float64\n",
      " 13  root_shell                   75583 non-null  float64\n",
      " 14  su_attempted                 75583 non-null  float64\n",
      " 15  num_root                     75583 non-null  float64\n",
      " 16  num_file_creations           75583 non-null  float64\n",
      " 17  num_shells                   75583 non-null  float64\n",
      " 18  num_access_files             75583 non-null  float64\n",
      " 19  num_outbound_cmds            75583 non-null  float64\n",
      " 20  is_host_login                75583 non-null  object \n",
      " 21  is_guest_login               75583 non-null  object \n",
      " 22  count                        75583 non-null  float64\n",
      " 23  srv_count                    75583 non-null  float64\n",
      " 24  serror_rate                  75583 non-null  float64\n",
      " 25  srv_serror_rate              75583 non-null  float64\n",
      " 26  rerror_rate                  75583 non-null  float64\n",
      " 27  srv_rerror_rate              75583 non-null  float64\n",
      " 28  same_srv_rate                75583 non-null  float64\n",
      " 29  diff_srv_rate                75583 non-null  float64\n",
      " 30  srv_diff_host_rate           75583 non-null  float64\n",
      " 31  dst_host_count               75583 non-null  float64\n",
      " 32  dst_host_srv_count           75583 non-null  float64\n",
      " 33  dst_host_same_srv_rate       75583 non-null  float64\n",
      " 34  dst_host_diff_srv_rate       75583 non-null  float64\n",
      " 35  dst_host_same_src_port_rate  75583 non-null  float64\n",
      " 36  dst_host_srv_diff_host_rate  75583 non-null  float64\n",
      " 37  dst_host_serror_rate         75583 non-null  float64\n",
      " 38  dst_host_srv_serror_rate     75583 non-null  float64\n",
      " 39  dst_host_rerror_rate         75583 non-null  float64\n",
      " 40  dst_host_srv_rerror_rate     75583 non-null  float64\n",
      " 41  class                        75583 non-null  object \n",
      "dtypes: float64(34), object(8)\n",
      "memory usage: 24.8+ MB\n"
     ]
    }
   ],
   "source": [
    "train_set.info()"
   ]
  },
  {
   "cell_type": "code",
   "execution_count": 7,
   "id": "1e787236-bed3-479d-954f-792a26b43002",
   "metadata": {},
   "outputs": [
    {
     "name": "stdout",
     "output_type": "stream",
     "text": [
      "<class 'pandas.core.frame.DataFrame'>\n",
      "Index: 50390 entries, 378 to 89600\n",
      "Data columns (total 42 columns):\n",
      " #   Column                       Non-Null Count  Dtype  \n",
      "---  ------                       --------------  -----  \n",
      " 0   duration                     50390 non-null  float64\n",
      " 1   protocol_type                50390 non-null  object \n",
      " 2   service                      50390 non-null  object \n",
      " 3   flag                         50390 non-null  object \n",
      " 4   src_bytes                    50390 non-null  float64\n",
      " 5   dst_bytes                    50390 non-null  float64\n",
      " 6   land                         50390 non-null  object \n",
      " 7   wrong_fragment               50390 non-null  float64\n",
      " 8   urgent                       50390 non-null  float64\n",
      " 9   hot                          50390 non-null  float64\n",
      " 10  num_failed_logins            50390 non-null  float64\n",
      " 11  logged_in                    50390 non-null  object \n",
      " 12  num_compromised              50390 non-null  float64\n",
      " 13  root_shell                   50390 non-null  float64\n",
      " 14  su_attempted                 50390 non-null  float64\n",
      " 15  num_root                     50390 non-null  float64\n",
      " 16  num_file_creations           50390 non-null  float64\n",
      " 17  num_shells                   50390 non-null  float64\n",
      " 18  num_access_files             50390 non-null  float64\n",
      " 19  num_outbound_cmds            50390 non-null  float64\n",
      " 20  is_host_login                50390 non-null  object \n",
      " 21  is_guest_login               50390 non-null  object \n",
      " 22  count                        50390 non-null  float64\n",
      " 23  srv_count                    50390 non-null  float64\n",
      " 24  serror_rate                  50390 non-null  float64\n",
      " 25  srv_serror_rate              50390 non-null  float64\n",
      " 26  rerror_rate                  50390 non-null  float64\n",
      " 27  srv_rerror_rate              50390 non-null  float64\n",
      " 28  same_srv_rate                50390 non-null  float64\n",
      " 29  diff_srv_rate                50390 non-null  float64\n",
      " 30  srv_diff_host_rate           50390 non-null  float64\n",
      " 31  dst_host_count               50390 non-null  float64\n",
      " 32  dst_host_srv_count           50390 non-null  float64\n",
      " 33  dst_host_same_srv_rate       50390 non-null  float64\n",
      " 34  dst_host_diff_srv_rate       50390 non-null  float64\n",
      " 35  dst_host_same_src_port_rate  50390 non-null  float64\n",
      " 36  dst_host_srv_diff_host_rate  50390 non-null  float64\n",
      " 37  dst_host_serror_rate         50390 non-null  float64\n",
      " 38  dst_host_srv_serror_rate     50390 non-null  float64\n",
      " 39  dst_host_rerror_rate         50390 non-null  float64\n",
      " 40  dst_host_srv_rerror_rate     50390 non-null  float64\n",
      " 41  class                        50390 non-null  object \n",
      "dtypes: float64(34), object(8)\n",
      "memory usage: 16.5+ MB\n"
     ]
    }
   ],
   "source": [
    "test_set.info()"
   ]
  },
  {
   "cell_type": "code",
   "execution_count": 8,
   "id": "2c3c78b1-ea07-478e-aa0f-7f9216f1c10b",
   "metadata": {},
   "outputs": [],
   "source": [
    "# Separar el DataSet de prueba 50% de validation_set y 50% de test_set\n",
    "\n",
    "val_set, test_set = train_test_split(test_set, test_size = 0.5, random_state = 42)"
   ]
  },
  {
   "cell_type": "code",
   "execution_count": 9,
   "id": "e6a4888d-1a4f-4b33-8c74-b71475331644",
   "metadata": {},
   "outputs": [
    {
     "name": "stdout",
     "output_type": "stream",
     "text": [
      "Longitud del Training Set:  75583\n",
      "Longitud del Validation Set:  25195\n",
      "Longitud del Test Set:  25195\n"
     ]
    }
   ],
   "source": [
    "print(\"Longitud del Training Set: \", len(train_set))\n",
    "print(\"Longitud del Validation Set: \", len(val_set))\n",
    "print(\"Longitud del Test Set: \", len(test_set))"
   ]
  },
  {
   "cell_type": "markdown",
   "id": "f5eb13bc-202d-487c-8409-c36230d6ee28",
   "metadata": {},
   "source": [
    "## 2. Particionando aleatorio y Stratified Sampling\n",
    "\n",
    "Scikitlearn tiene implementada la función **train_test_split**, sin embargo, esta función por defecto realiza un particionado del DataSet aleatorio para cada vez que se ejecuta el script. Aún añadiendo la semilla fija para la generación aleatoria, cada vez que se cargue el DataSet, se generarán nuevos subconjuntos. Esto puede ocasionar que después de muchos intentos, el algoritmo \"vea\" todo el DataSet.\n",
    "\n",
    "Para solucionar este problema, Scikitlearn ha introducido el parametro **Shuffle** en la función **train_test_split**."
   ]
  },
  {
   "cell_type": "code",
   "execution_count": 10,
   "id": "6095b7a3-6689-4342-92d4-dbb9069468ad",
   "metadata": {},
   "outputs": [],
   "source": [
    "# Si Shuffle = False el DataSet no mezclará antes del particionado\n",
    "\n",
    "train_set, test_set = train_test_split(df, test_size = 0.4, random_state = 42, shuffle = False)"
   ]
  },
  {
   "cell_type": "markdown",
   "id": "95143b16-f68a-46ca-8d16-04a224531c52",
   "metadata": {},
   "source": [
    "En estos métodos para dividir el DataSet, estan bien si tiene un DataSet muy grande, pero si no se tiene se corre el riesgo de introducir **Sampling Bias**.\n",
    "\n",
    "Para evitar esto, se utliliza un método de sampling que se llama **Statified Sampling**. La población es dividida en subconjuntos hmogeneos llamados **strata**. El objetivo es que no quede ninguna característica del DataSet sin representación en ninguno de los conjuntos de datos para una o más características en particular.\n",
    "\n",
    "Scikitlearn introduce el parámetro **stratify** en la función **train_test_split** para controlar este comportamiento. \n",
    "\n",
    "This **stratify** parameter makes a split so that the propotion of values in the sample produced will be same as the propotion of values provider to parameter statify.\n",
    "\n",
    "For example, if variable y is binary categorical variable with values 0 and 1 and there are 25% of zeros and 75% of ones, stratify = y will sure that your split has 25% of 0's and 75% 1's.\n",
    "\n",
    "_https://stackoverflow.com/a/38889389_"
   ]
  },
  {
   "cell_type": "code",
   "execution_count": 11,
   "id": "3a6f1222-d976-46cc-b0d3-07a786653fd9",
   "metadata": {},
   "outputs": [],
   "source": [
    "train_set, test_set = train_test_split(df, test_size = 0.4, random_state = 42, stratify = df[\"protocol_type\"])"
   ]
  },
  {
   "cell_type": "markdown",
   "id": "547f5d17-d034-4ddb-87f1-b8c0a6b55fba",
   "metadata": {},
   "source": [
    "## 3. Generación de una función de particionado"
   ]
  },
  {
   "cell_type": "code",
   "execution_count": 12,
   "id": "7670295d-0906-4ec7-bc97-274c3f354a6b",
   "metadata": {},
   "outputs": [],
   "source": [
    "# Construcción de una función que realice el particionado completo\n",
    "\n",
    "def train_val_test_split(df, rstate = 42, shuffle = True, stratify = None):\n",
    "    strat =df[stratify] if stratify else None\n",
    "    train_set, test_set = train_test_split(\n",
    "        df, test_size = 0.4, random_state = rstate, shuffle = shuffle, stratify = strat)\n",
    "    strat = test_set[stratify] if stratify else None\n",
    "    val_set, test_set = train_test_split(\n",
    "        test_set, test_size = 0.5, random_state = rstate, shuffle = shuffle, stratify = strat)\n",
    "    return (train_set, val_set, test_set)\n",
    "\n",
    "# mandamos a llamar el DataFrame, mezclar aleatoriamente los deatos en un lista en mismo lugar, "
   ]
  },
  {
   "cell_type": "code",
   "execution_count": 13,
   "id": "d49bd77d-81e2-4a8d-89c5-e1be6806f2b2",
   "metadata": {},
   "outputs": [
    {
     "name": "stdout",
     "output_type": "stream",
     "text": [
      "Longitud del DataSet:  125973\n"
     ]
    }
   ],
   "source": [
    "print(\"Longitud del DataSet: \", len(df))"
   ]
  },
  {
   "cell_type": "code",
   "execution_count": 14,
   "id": "43b35e90-4524-4355-9618-a9250144ea36",
   "metadata": {},
   "outputs": [
    {
     "name": "stdout",
     "output_type": "stream",
     "text": [
      "Longitud del Training Set:  75583\n",
      "Longitud del Validation Set:  25195\n",
      "Longitud del Test Set:  50390\n"
     ]
    }
   ],
   "source": [
    "print(\"Longitud del Training Set: \", len(train_set))\n",
    "print(\"Longitud del Validation Set: \", len(val_set))\n",
    "print(\"Longitud del Test Set: \", len(test_set))"
   ]
  },
  {
   "cell_type": "code",
   "execution_count": 15,
   "id": "951d4eeb-f570-4ab1-99d4-60ca53a46b0c",
   "metadata": {},
   "outputs": [
    {
     "data": {
      "image/png": "[encoded data removed]",
      "text/plain": [
       "<Figure size 640x480 with 1 Axes>"
      ]
     },
     "metadata": {},
     "output_type": "display_data"
    }
   ],
   "source": [
    "# Comprobar de que stratify mantiene la proporción de las características en los DataSet\n",
    "\n",
    "%matplotlib inline\n",
    "import matplotlib.pyplot as plt\n",
    "df[\"protocol_type\"].hist()\n",
    "plt.show()"
   ]
  },
  {
   "cell_type": "code",
   "execution_count": 16,
   "id": "64651fde-1e01-45d1-bbb4-1514d9ebf0c6",
   "metadata": {},
   "outputs": [
    {
     "data": {
      "image/png": "[encoded data removed]",
      "text/plain": [
       "<Figure size 640x480 with 1 Axes>"
      ]
     },
     "metadata": {},
     "output_type": "display_data"
    }
   ],
   "source": [
    "train_set[\"protocol_type\"].hist()\n",
    "plt.show()"
   ]
  },
  {
   "cell_type": "code",
   "execution_count": 17,
   "id": "70b8d6cb-03cc-4255-a84f-0ee4d7f03461",
   "metadata": {},
   "outputs": [
    {
     "data": {
      "image/png": "[encoded data removed]",
      "text/plain": [
       "<Figure size 640x480 with 1 Axes>"
      ]
     },
     "metadata": {},
     "output_type": "display_data"
    }
   ],
   "source": [
    "val_set[\"protocol_type\"].hist()\n",
    "plt.show()"
   ]
  },
  {
   "cell_type": "code",
   "execution_count": 18,
   "id": "cc9b0cd9-1d4c-4743-b510-5f81451ca138",
   "metadata": {},
   "outputs": [
    {
     "data": {
      "image/png": "[encoded data removed]",
      "text/plain": [
       "<Figure size 640x480 with 1 Axes>"
      ]
     },
     "metadata": {},
     "output_type": "display_data"
    }
   ],
   "source": [
    "test_set[\"protocol_type\"].hist()\n",
    "plt.show()"
   ]
  },
  {
   "cell_type": "code",
   "execution_count": 19,
   "id": "5e23c063-523d-4493-92aa-be8e6fd22453",
   "metadata": {},
   "outputs": [
    {
     "data": {
      "text/plain": [
       "<Axes: >"
      ]
     },
     "execution_count": 19,
     "metadata": {},
     "output_type": "execute_result"
    }
   ],
   "source": [
    "df[\"protocol_type\"].hist()\n",
    "train_set[\"protocol_type\"].hist()\n",
    "val_set[\"protocol_type\"].hist()"
   ]
  },
  {
   "cell_type": "code",
   "execution_count": 20,
   "id": "ddacc5eb-15a2-4dbe-b2a7-b39bb70fe14d",
   "metadata": {},
   "outputs": [
    {
     "data": {
      "image/png": "[encoded data removed]",
      "text/plain": [
       "<Figure size 640x480 with 1 Axes>"
      ]
     },
     "metadata": {},
     "output_type": "display_data"
    }
   ],
   "source": [
    "test_set[\"protocol_type\"].hist()\n",
    "plt.show()"
   ]
  }
 ],
 "metadata": {
  "kernelspec": {
   "display_name": "Python 3 (ipykernel)",
   "language": "python",
   "name": "python3"
  },
  "language_info": {
   "codemirror_mode": {
    "name": "ipython",
    "version": 3
   },
   "file_extension": ".py",
   "mimetype": "text/x-python",
   "name": "python",
   "nbconvert_exporter": "python",
   "pygments_lexer": "ipython3",
   "version": "3.11.13"
  }
 },
 "nbformat": 4,
 "nbformat_minor": 5
}
