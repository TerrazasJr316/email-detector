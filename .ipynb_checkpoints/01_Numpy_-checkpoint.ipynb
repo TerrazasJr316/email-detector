{
 "cells": [
  {
   "cell_type": "markdown",
   "id": "ef3055e7-b69b-4547-a726-d5e1c2c01150",
   "metadata": {},
   "source": [
    "# Introducción a Numpy"
   ]
  },
  {
   "cell_type": "markdown",
   "id": "2ada789e-177e-4332-8deb-d3eb1b99df46",
   "metadata": {},
   "source": [
    "([Numpy]()) es una librería para la computación con Python\n",
    "* Proporciona Arrays N-Dimensiones.\n",
    "* Implementa funciones matemáticas sofisticadas\n",
    "* Proporciona herramientas para integrar C/C++ y Fortran.\n",
    "* Proporciona mecanismos para facilitar la realización de las tareas relacionadas con álgebra lineal o numeros aleatorios"
   ]
  },
  {
   "cell_type": "markdown",
   "id": "ec955300-09e2-46d4-b910-358450126b74",
   "metadata": {},
   "source": [
    "## Imports"
   ]
  },
  {
   "cell_type": "code",
   "execution_count": 6,
   "id": "f726f851-a792-4973-ba8d-da6f145039db",
   "metadata": {},
   "outputs": [],
   "source": [
    "import numpy as np"
   ]
  },
  {
   "cell_type": "markdown",
   "id": "6def74b0-daec-406b-9400-f3149f00c869",
   "metadata": {},
   "source": [
    "## Arrays\n",
    "un **array** es una estructura de datos que consiste en una colección de elementos (valores o variables), cada uno identificado por almenos un índice o clave. Un array se almacena de modo que la posición de cada elemento se almacena de modo de la posición de cada elemento que se pueda calcular a partir de su tupla de índice, mediante una fórmula matemática. El tipo más simple de array es de un array lineal, también llamado array unidimensional\n",
    "\n",
    "En Numpy:\n",
    "* Cada dimensión se donomina axis.\n",
    "* El número de dimensiones se denomina rank.\n",
    "* La lista de domensiones con su correspondiente longitud se denomina shape\n",
    "* El número total de elementos (multiplicación de la longitud de las dimensiones) se denomina size."
   ]
  },
  {
   "cell_type": "code",
   "execution_count": 7,
   "id": "f6e887b7-0f28-4540-9de6-c24bbe4b7438",
   "metadata": {},
   "outputs": [
    {
     "data": {
      "text/plain": [
       "array([[0., 0., 0., 0.],\n",
       "       [0., 0., 0., 0.]])"
      ]
     },
     "execution_count": 7,
     "metadata": {},
     "output_type": "execute_result"
    }
   ],
   "source": [
    "# Array cuyos valores son todos 0.\n",
    "a = np.zeros((2,4))\n",
    "a"
   ]
  },
  {
   "cell_type": "markdown",
   "id": "ed6f1d01-9a53-4dc5-a75b-e61bb6b2f23e",
   "metadata": {},
   "source": [
    "a es un array:\n",
    "* Con dos axis, el primero de longitud 2 y suguido de longitud 4\n",
    "* Con un rank igual a 2.\n",
    "* Con un shape igual (2,4).\n",
    "* Con un size igual a 8."
   ]
  },
  {
   "cell_type": "code",
   "execution_count": 8,
   "id": "5e590024-acdf-4b91-a815-b59f067bb1fc",
   "metadata": {},
   "outputs": [
    {
     "data": {
      "text/plain": [
       "8"
      ]
     },
     "execution_count": 8,
     "metadata": {},
     "output_type": "execute_result"
    }
   ],
   "source": [
    "a.size"
   ]
  },
  {
   "cell_type": "markdown",
   "id": "5b755b10-15ef-4a51-96a5-5e120d0bbda2",
   "metadata": {},
   "source": [
    "## Creación de arrays"
   ]
  },
  {
   "cell_type": "code",
   "execution_count": 10,
   "id": "fc77ced6-260f-4612-a31a-801629c4a975",
   "metadata": {},
   "outputs": [
    {
     "data": {
      "text/plain": [
       "array([[[0., 0., 0., 0.],\n",
       "        [0., 0., 0., 0.],\n",
       "        [0., 0., 0., 0.]],\n",
       "\n",
       "       [[0., 0., 0., 0.],\n",
       "        [0., 0., 0., 0.],\n",
       "        [0., 0., 0., 0.]]])"
      ]
     },
     "execution_count": 10,
     "metadata": {},
     "output_type": "execute_result"
    }
   ],
   "source": [
    "# Array cuyos valores son todos 0.\n",
    "\n",
    "np.zeros((2,3,4))"
   ]
  },
  {
   "cell_type": "code",
   "execution_count": 11,
   "id": "605ce561-e47b-494a-a860-a7d2b67ff254",
   "metadata": {},
   "outputs": [
    {
     "data": {
      "text/plain": [
       "array([[[1., 1., 1., 1.],\n",
       "        [1., 1., 1., 1.],\n",
       "        [1., 1., 1., 1.]],\n",
       "\n",
       "       [[1., 1., 1., 1.],\n",
       "        [1., 1., 1., 1.],\n",
       "        [1., 1., 1., 1.]]])"
      ]
     },
     "execution_count": 11,
     "metadata": {},
     "output_type": "execute_result"
    }
   ],
   "source": [
    "# Array cuyos valores son todos 1.\n",
    "np.ones((2,3,4,))"
   ]
  },
  {
   "cell_type": "code",
   "execution_count": 12,
   "id": "e6471231-503c-4554-9383-cadb2bf7b9eb",
   "metadata": {},
   "outputs": [
    {
     "data": {
      "text/plain": [
       "array([[[8, 8, 8, 8],\n",
       "        [8, 8, 8, 8],\n",
       "        [8, 8, 8, 8]],\n",
       "\n",
       "       [[8, 8, 8, 8],\n",
       "        [8, 8, 8, 8],\n",
       "        [8, 8, 8, 8]]])"
      ]
     },
     "execution_count": 12,
     "metadata": {},
     "output_type": "execute_result"
    }
   ],
   "source": [
    "# Array cuyos valores son todos el valor indicado como segundo parámetro de la función.\n",
    "np.full((2,3,4),8)"
   ]
  }
 ],
 "metadata": {
  "kernelspec": {
   "display_name": "Python 3 (ipykernel)",
   "language": "python",
   "name": "python3"
  },
  "language_info": {
   "codemirror_mode": {
    "name": "ipython",
    "version": 3
   },
   "file_extension": ".py",
   "mimetype": "text/x-python",
   "name": "python",
   "nbconvert_exporter": "python",
   "pygments_lexer": "ipython3",
   "version": "3.9.19"
  }
 },
 "nbformat": 4,
 "nbformat_minor": 5
}
