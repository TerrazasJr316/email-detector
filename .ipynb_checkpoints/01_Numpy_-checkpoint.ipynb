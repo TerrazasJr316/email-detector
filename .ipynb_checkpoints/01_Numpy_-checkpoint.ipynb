{
 "cells": [
  {
   "cell_type": "markdown",
   "id": "ef3055e7-b69b-4547-a726-d5e1c2c01150",
   "metadata": {},
   "source": [
    "# Introducción a Numpy"
   ]
  },
  {
   "cell_type": "markdown",
   "id": "2ada789e-177e-4332-8deb-d3eb1b99df46",
   "metadata": {},
   "source": [
    "([Numpy]()) es una librería para la computación con Python\n",
    "* Proporciona Arrays N-Dimensiones.\n",
    "* Implementa funciones matemáticas sofisticadas\n",
    "* Proporciona herramientas para integrar C/C++ y Fortran.\n",
    "* Proporciona mecanismos para facilitar la realización de las tareas relacionadas con álgebra lineal o numeros aleatorios"
   ]
  },
  {
   "cell_type": "markdown",
   "id": "ec955300-09e2-46d4-b910-358450126b74",
   "metadata": {},
   "source": [
    "## Imports"
   ]
  },
  {
   "cell_type": "code",
   "execution_count": 1,
   "id": "f726f851-a792-4973-ba8d-da6f145039db",
   "metadata": {},
   "outputs": [],
   "source": [
    "import numpy as np"
   ]
  },
  {
   "cell_type": "markdown",
   "id": "6def74b0-daec-406b-9400-f3149f00c869",
   "metadata": {},
   "source": [
    "## Arrays\n",
    "un **array** es una estructura de datos que consiste en una colección de elementos (valores o variables), cada uno identificado por almenos un índice o clave. Un array se almacena de modo que la posición de cada elemento se almacena de modo de la posición de cada elemento que se pueda calcular a partir de su tupla de índice, mediante una fórmula matemática. El tipo más simple de array es de un array lineal, también llamado array unidimensional\n",
    "\n",
    "En Numpy:\n",
    "* Cada dimensión se donomina axis.\n",
    "* El número de dimensiones se denomina rank.\n",
    "* La lista de domensiones con su correspondiente longitud se denomina shape\n",
    "* El número total de elementos (multiplicación de la longitud de las dimensiones) se denomina size."
   ]
  },
  {
   "cell_type": "code",
   "execution_count": 2,
   "id": "f6e887b7-0f28-4540-9de6-c24bbe4b7438",
   "metadata": {},
   "outputs": [
    {
     "data": {
      "text/plain": [
       "array([[0., 0., 0., 0.],\n",
       "       [0., 0., 0., 0.]])"
      ]
     },
     "execution_count": 2,
     "metadata": {},
     "output_type": "execute_result"
    }
   ],
   "source": [
    "# Array cuyos valores son todos 0.\n",
    "a = np.zeros((2,4))\n",
    "a"
   ]
  },
  {
   "cell_type": "markdown",
   "id": "ed6f1d01-9a53-4dc5-a75b-e61bb6b2f23e",
   "metadata": {},
   "source": [
    "a es un array:\n",
    "* Con dos axis, el primero de longitud 2 y suguido de longitud 4\n",
    "* Con un rank igual a 2.\n",
    "* Con un shape igual (2,4).\n",
    "* Con un size igual a 8."
   ]
  },
  {
   "cell_type": "code",
   "execution_count": 3,
   "id": "5e590024-acdf-4b91-a815-b59f067bb1fc",
   "metadata": {},
   "outputs": [
    {
     "data": {
      "text/plain": [
       "8"
      ]
     },
     "execution_count": 3,
     "metadata": {},
     "output_type": "execute_result"
    }
   ],
   "source": [
    "a.size"
   ]
  },
  {
   "cell_type": "markdown",
   "id": "5b755b10-15ef-4a51-96a5-5e120d0bbda2",
   "metadata": {},
   "source": [
    "## Creación de arrays"
   ]
  },
  {
   "cell_type": "code",
   "execution_count": 4,
   "id": "fc77ced6-260f-4612-a31a-801629c4a975",
   "metadata": {},
   "outputs": [
    {
     "data": {
      "text/plain": [
       "array([[[0., 0., 0., 0.],\n",
       "        [0., 0., 0., 0.],\n",
       "        [0., 0., 0., 0.]],\n",
       "\n",
       "       [[0., 0., 0., 0.],\n",
       "        [0., 0., 0., 0.],\n",
       "        [0., 0., 0., 0.]]])"
      ]
     },
     "execution_count": 4,
     "metadata": {},
     "output_type": "execute_result"
    }
   ],
   "source": [
    "# Array cuyos valores son todos 0.\n",
    "\n",
    "np.zeros((2,3,4))"
   ]
  },
  {
   "cell_type": "code",
   "execution_count": 5,
   "id": "605ce561-e47b-494a-a860-a7d2b67ff254",
   "metadata": {},
   "outputs": [
    {
     "data": {
      "text/plain": [
       "array([[[1., 1., 1., 1.],\n",
       "        [1., 1., 1., 1.],\n",
       "        [1., 1., 1., 1.]],\n",
       "\n",
       "       [[1., 1., 1., 1.],\n",
       "        [1., 1., 1., 1.],\n",
       "        [1., 1., 1., 1.]]])"
      ]
     },
     "execution_count": 5,
     "metadata": {},
     "output_type": "execute_result"
    }
   ],
   "source": [
    "# Array cuyos valores son todos 1.\n",
    "np.ones((2,3,4,))"
   ]
  },
  {
   "cell_type": "code",
   "execution_count": 6,
   "id": "e6471231-503c-4554-9383-cadb2bf7b9eb",
   "metadata": {},
   "outputs": [
    {
     "data": {
      "text/plain": [
       "array([[[8, 8, 8, 8],\n",
       "        [8, 8, 8, 8],\n",
       "        [8, 8, 8, 8]],\n",
       "\n",
       "       [[8, 8, 8, 8],\n",
       "        [8, 8, 8, 8],\n",
       "        [8, 8, 8, 8]]])"
      ]
     },
     "execution_count": 6,
     "metadata": {},
     "output_type": "execute_result"
    }
   ],
   "source": [
    "# Array cuyos valores son todos el valor indicado como segundo parámetro de la función.\n",
    "np.full((2,3,4),8)"
   ]
  },
  {
   "cell_type": "code",
   "execution_count": 8,
   "id": "f58bd848-7577-4dc4-96b6-48df1a317c5c",
   "metadata": {},
   "outputs": [
    {
     "data": {
      "text/plain": [
       "array([[[2.256593e-316, 0.000000e+000, 0.000000e+000, 0.000000e+000,\n",
       "         0.000000e+000, 0.000000e+000, 0.000000e+000, 0.000000e+000,\n",
       "         0.000000e+000],\n",
       "        [0.000000e+000, 0.000000e+000, 0.000000e+000, 0.000000e+000,\n",
       "         0.000000e+000, 0.000000e+000, 0.000000e+000, 0.000000e+000,\n",
       "         0.000000e+000],\n",
       "        [0.000000e+000, 0.000000e+000, 0.000000e+000, 0.000000e+000,\n",
       "         0.000000e+000, 0.000000e+000, 0.000000e+000, 0.000000e+000,\n",
       "         0.000000e+000]],\n",
       "\n",
       "       [[0.000000e+000, 0.000000e+000, 0.000000e+000, 0.000000e+000,\n",
       "         0.000000e+000, 0.000000e+000, 0.000000e+000, 0.000000e+000,\n",
       "         0.000000e+000],\n",
       "        [0.000000e+000, 0.000000e+000, 0.000000e+000, 0.000000e+000,\n",
       "         0.000000e+000, 0.000000e+000, 0.000000e+000, 0.000000e+000,\n",
       "         0.000000e+000],\n",
       "        [0.000000e+000, 0.000000e+000, 0.000000e+000, 0.000000e+000,\n",
       "         0.000000e+000, 0.000000e+000, 0.000000e+000, 0.000000e+000,\n",
       "         0.000000e+000]]])"
      ]
     },
     "execution_count": 8,
     "metadata": {},
     "output_type": "execute_result"
    }
   ],
   "source": [
    "# El resultado de numpy.empty no es predecible \n",
    "# Se inicializa con los valores del array con lo que haya en memeroia en ese momento\n",
    "np.empty((2,3,9))"
   ]
  },
  {
   "cell_type": "code",
   "execution_count": 9,
   "id": "ac81a004-9440-4c23-9158-24bc579c63e3",
   "metadata": {},
   "outputs": [
    {
     "data": {
      "text/plain": [
       "array([[1, 2, 3],\n",
       "       [4, 5, 6]])"
      ]
     },
     "execution_count": 9,
     "metadata": {},
     "output_type": "execute_result"
    }
   ],
   "source": [
    "# Inicializar el array utilizando un array de Python.\n",
    "b = np.array([[1,2,3],[4,5,6]])\n",
    "b"
   ]
  },
  {
   "cell_type": "code",
   "execution_count": 10,
   "id": "8665aa03-d3d8-4a99-84ed-ced8fcd3444d",
   "metadata": {},
   "outputs": [
    {
     "data": {
      "text/plain": [
       "(2, 3)"
      ]
     },
     "execution_count": 10,
     "metadata": {},
     "output_type": "execute_result"
    }
   ],
   "source": [
    "b.shape"
   ]
  },
  {
   "cell_type": "code",
   "execution_count": 12,
   "id": "61f54fda-e2b4-48d9-a5da-aa9154d2ca77",
   "metadata": {},
   "outputs": [
    {
     "name": "stdout",
     "output_type": "stream",
     "text": [
      "[0.         0.66666667 1.33333333 2.         2.66666667 3.33333333\n",
      " 4.         4.66666667 5.33333333 6.        ]\n"
     ]
    }
   ],
   "source": [
    "# Crear un array utilizando una función basada en rangos.\n",
    "# (minimo, maximo, numero de elementos del array)\n",
    "print(np.linspace(0,6,10))"
   ]
  },
  {
   "cell_type": "code",
   "execution_count": 14,
   "id": "d4fb8135-f8c2-4f1b-8e94-d28679c284f4",
   "metadata": {},
   "outputs": [
    {
     "data": {
      "text/plain": [
       "array([[[0.63690939, 0.11353445, 0.1067288 , 0.40153212],\n",
       "        [0.09172158, 0.67320811, 0.28626833, 0.36828364],\n",
       "        [0.03651548, 0.72999659, 0.7498084 , 0.63018514]],\n",
       "\n",
       "       [[0.92476891, 0.37631328, 0.50593973, 0.15642428],\n",
       "        [0.26006148, 0.17452825, 0.9212155 , 0.45399353],\n",
       "        [0.59748268, 0.17812316, 0.92342837, 0.9008353 ]],\n",
       "\n",
       "       [[0.35661989, 0.05529976, 0.48677046, 0.10018191],\n",
       "        [0.15979478, 0.05998314, 0.57127342, 0.99747157],\n",
       "        [0.54788991, 0.49115872, 0.36992421, 0.90259674]]])"
      ]
     },
     "execution_count": 14,
     "metadata": {},
     "output_type": "execute_result"
    }
   ],
   "source": [
    "# Inicializar el array con valores aleatorios\n",
    "np.random.rand(3,3,4)"
   ]
  },
  {
   "cell_type": "code",
   "execution_count": 15,
   "id": "420ebeda-1439-4727-a1f7-ac7ad585b80a",
   "metadata": {},
   "outputs": [
    {
     "data": {
      "text/plain": [
       "array([[-0.78877779, -1.30889661,  1.9981819 , -2.2496145 ],\n",
       "       [ 0.56843636, -0.79067584,  0.5373404 ,  1.43344604]])"
      ]
     },
     "execution_count": 15,
     "metadata": {},
     "output_type": "execute_result"
    }
   ],
   "source": [
    "# Iniciar array con valores aleatorios conforme a una distribución normal.\n",
    "np.random.randn(2,4)"
   ]
  },
  {
   "cell_type": "code",
   "execution_count": 19,
   "id": "eaedc3fb-0c84-4e4d-abba-e0b7e7c3808b",
   "metadata": {},
   "outputs": [
    {
     "data": {
      "image/png": "[encoded data removed]",
      "text/plain": [
       "<Figure size 640x480 with 1 Axes>"
      ]
     },
     "metadata": {},
     "output_type": "display_data"
    }
   ],
   "source": [
    "%matplotlib inline\n",
    "import matplotlib.pyplot as plt\n",
    "\n",
    "c = np.random.randn(1000000)\n",
    "plt.hist(c,bins=600)\n",
    "plt.show()"
   ]
  },
  {
   "cell_type": "code",
   "execution_count": 20,
   "id": "0e657b10-3e69-453f-87ec-6e9c9a43ba98",
   "metadata": {},
   "outputs": [
    {
     "data": {
      "text/plain": [
       "array([[ 0.,  2.,  4.,  6.,  8.],\n",
       "       [ 1.,  3.,  5.,  7.,  9.],\n",
       "       [ 2.,  4.,  6.,  8., 10.]])"
      ]
     },
     "execution_count": 20,
     "metadata": {},
     "output_type": "execute_result"
    }
   ],
   "source": [
    "# Inicializar un array, utilizando una función personalizada.\n",
    "\n",
    "def func(x,y):\n",
    "    return x + 2 * y\n",
    "\n",
    "np.fromfunction(func, (3,5))"
   ]
  },
  {
   "cell_type": "markdown",
   "id": "5e977276-4371-4723-bee1-afc826619d75",
   "metadata": {},
   "source": [
    "## Acceso a los elementos de un array\n",
    "## Array Unidimensional"
   ]
  },
  {
   "cell_type": "code",
   "execution_count": 21,
   "id": "2f0b9a9e-43a4-4630-b199-e3116ec94a75",
   "metadata": {},
   "outputs": [
    {
     "name": "stdout",
     "output_type": "stream",
     "text": [
      "Shape:  (6,)\n",
      "Array_uni [ 1  3  5  7  9 11]\n"
     ]
    }
   ],
   "source": [
    "# Acceder a los elementos de un array.\n",
    "\n",
    "array_uni = np.array([1,3,5,7,9,11])\n",
    "print(\"Shape: \", array_uni.shape)\n",
    "print(\"Array_uni\", array_uni)"
   ]
  },
  {
   "cell_type": "code",
   "execution_count": 23,
   "id": "00f7b677-fc7d-4e35-b7bd-9ec578e259c9",
   "metadata": {},
   "outputs": [
    {
     "data": {
      "text/plain": [
       "np.int64(9)"
      ]
     },
     "execution_count": 23,
     "metadata": {},
     "output_type": "execute_result"
    }
   ],
   "source": [
    "# Accediendo al quinto elemento del array.\n",
    "array_uni[4]"
   ]
  },
  {
   "cell_type": "code",
   "execution_count": 24,
   "id": "e56b185f-fbdf-4c10-a006-5488e655af2a",
   "metadata": {},
   "outputs": [
    {
     "data": {
      "text/plain": [
       "array([5, 7])"
      ]
     },
     "execution_count": 24,
     "metadata": {},
     "output_type": "execute_result"
    }
   ],
   "source": [
    "# Acceder al tercer y cuarto elemento del array.\n",
    "array_uni[2:4]"
   ]
  },
  {
   "cell_type": "markdown",
   "id": "e089c178-74b6-4eeb-8e95-315141930410",
   "metadata": {},
   "source": [
    "### Array Multidimensional"
   ]
  },
  {
   "cell_type": "code",
   "execution_count": 25,
   "id": "598b14d8-2ef7-4e62-a128-5699179cf28b",
   "metadata": {},
   "outputs": [
    {
     "name": "stdout",
     "output_type": "stream",
     "text": [
      "Shape:  (2, 4)\n",
      "Array_uni: \n",
      " [[1 2 3 4]\n",
      " [5 6 7 8]]\n"
     ]
    }
   ],
   "source": [
    "# Crear un array multidimensional\n",
    "array_multi = np.array([[1,2,3,4],[5,6,7,8]])\n",
    "print(\"Shape: \", array_multi.shape)\n",
    "print(\"Array_uni: \\n\", array_multi)"
   ]
  },
  {
   "cell_type": "code",
   "execution_count": 27,
   "id": "31a18575-9759-4d1f-896d-ebcdd3747dfa",
   "metadata": {},
   "outputs": [
    {
     "data": {
      "text/plain": [
       "np.int64(4)"
      ]
     },
     "execution_count": 27,
     "metadata": {},
     "output_type": "execute_result"
    }
   ],
   "source": [
    "# Acceder al cuarto elemento del array.\n",
    "array_multi[0,3]"
   ]
  },
  {
   "cell_type": "code",
   "execution_count": 29,
   "id": "09cc9f97-edba-4a22-ae95-ed2cf2764278",
   "metadata": {},
   "outputs": [
    {
     "data": {
      "text/plain": [
       "array([5, 6, 7, 8])"
      ]
     },
     "execution_count": 29,
     "metadata": {},
     "output_type": "execute_result"
    }
   ],
   "source": [
    "# Acceder a la segunda fila del array\n",
    "array_multi[1, :]"
   ]
  },
  {
   "cell_type": "code",
   "execution_count": 30,
   "id": "b54b4b0c-251c-42cb-b43d-3066a0514799",
   "metadata": {},
   "outputs": [
    {
     "data": {
      "text/plain": [
       "array([3, 7])"
      ]
     },
     "execution_count": 30,
     "metadata": {},
     "output_type": "execute_result"
    }
   ],
   "source": [
    "# Acceder al primer elemento de las dos primeras fillas del array\n",
    "array_multi[0:2,2]"
   ]
  },
  {
   "cell_type": "markdown",
   "id": "eda8965d-f829-41ab-974f-cd6e8655a854",
   "metadata": {},
   "source": [
    "## Modificación de un array"
   ]
  },
  {
   "cell_type": "code",
   "execution_count": 31,
   "id": "d21225fd-3987-45c2-ac38-83b110a2d974",
   "metadata": {},
   "outputs": [
    {
     "name": "stdout",
     "output_type": "stream",
     "text": [
      "Shape:  (28,)\n",
      "Array_uni: \n",
      " [ 0  1  2  3  4  5  6  7  8  9 10 11 12 13 14 15 16 17 18 19 20 21 22 23\n",
      " 24 25 26 27]\n"
     ]
    }
   ],
   "source": [
    "# Crear un arreglo unidimensional e inicializarlo con un rando\n",
    "# de elementos 0 - 27\n",
    "\n",
    "array1 = np.arange(28)\n",
    "print(\"Shape: \", array1.shape)\n",
    "print(\"Array_uni: \\n\", array1)"
   ]
  },
  {
   "cell_type": "code",
   "execution_count": 34,
   "id": "5029091b-86ed-413e-b645-2a49434f3ea7",
   "metadata": {},
   "outputs": [
    {
     "name": "stdout",
     "output_type": "stream",
     "text": [
      "Shape:  (7, 4)\n",
      "Array_uni: \n",
      " [[ 0  1  2  3]\n",
      " [ 4  5  6  7]\n",
      " [ 8  9 10 11]\n",
      " [12 13 14 15]\n",
      " [16 17 18 19]\n",
      " [20 21 22 23]\n",
      " [24 25 26 27]]\n"
     ]
    }
   ],
   "source": [
    "# Cambiar las dimensiones del array y sus longitudes\n",
    "array1.shape = (7,4)\n",
    "print(\"Shape: \", array1.shape)\n",
    "print(\"Array_uni: \\n\", array1)"
   ]
  },
  {
   "cell_type": "code",
   "execution_count": 36,
   "id": "d34c8756-cbcb-42f8-bcd0-129a5c960b48",
   "metadata": {},
   "outputs": [
    {
     "name": "stdout",
     "output_type": "stream",
     "text": [
      "Shape:  (4, 7)\n",
      "Array_uni: \n",
      " [[ 0  1  2  3  4  5  6]\n",
      " [ 7  8  9 10 11 12 13]\n",
      " [14 15 16 17 18 19 20]\n",
      " [21 22 23 24 25 26 27]]\n"
     ]
    }
   ],
   "source": [
    "# El ejemplo anterior devuelve un nuevo array que apunta a los mismos datos.\n",
    "# Nota: modificaciones en el array, modificaran el otro array.\n",
    "\n",
    "array2= array1.reshape(4,7)\n",
    "print(\"Shape: \", array2.shape)\n",
    "print(\"Array_uni: \\n\", array2)\n"
   ]
  },
  {
   "cell_type": "code",
   "execution_count": 1,
   "id": "68180826-4e01-43ed-b287-9b6c75da0531",
   "metadata": {},
   "outputs": [
    {
     "ename": "NameError",
     "evalue": "name 'array2' is not defined",
     "output_type": "error",
     "traceback": [
      "\u001b[0;31m---------------------------------------------------------------------------\u001b[0m",
      "\u001b[0;31mNameError\u001b[0m                                 Traceback (most recent call last)",
      "Cell \u001b[0;32mIn[1], line 3\u001b[0m\n\u001b[1;32m      1\u001b[0m \u001b[38;5;66;03m# Modificación del nuevo array devuelto\u001b[39;00m\n\u001b[0;32m----> 3\u001b[0m \u001b[43marray2\u001b[49m[\u001b[38;5;241m1\u001b[39m, \u001b[38;5;241m3\u001b[39m] \u001b[38;5;241m=\u001b[39m \u001b[38;5;241m30\u001b[39m\n\u001b[1;32m      4\u001b[0m \u001b[38;5;28mprint\u001b[39m(\u001b[38;5;124m\"\u001b[39m\u001b[38;5;124mArray_uni: \u001b[39m\u001b[38;5;130;01m\\n\u001b[39;00m\u001b[38;5;124m\"\u001b[39m, array2)\n",
      "\u001b[0;31mNameError\u001b[0m: name 'array2' is not defined"
     ]
    }
   ],
   "source": [
    "# Modificación del nuevo array devuelto\n",
    "\n",
    "array2[1, 3] = 30\n",
    "print(\"Array_uni: \\n\", array2)"
   ]
  },
  {
   "cell_type": "code",
   "execution_count": 38,
   "id": "637e4d03-d708-4215-a84d-f7cb47c4ed0d",
   "metadata": {},
   "outputs": [
    {
     "name": "stdout",
     "output_type": "stream",
     "text": [
      "Array_uni: \n",
      " [[ 0  1  2  3]\n",
      " [ 4  5  6  7]\n",
      " [ 8  9 30 11]\n",
      " [12 13 14 15]\n",
      " [16 17 18 19]\n",
      " [20 21 22 23]\n",
      " [24 25 26 27]]\n"
     ]
    }
   ],
   "source": [
    "\n",
    "print(\"Array_uni: \\n\", array1)"
   ]
  },
  {
   "cell_type": "code",
   "execution_count": null,
   "id": "d4de3295-d629-4db7-a2b8-823427340ab6",
   "metadata": {},
   "outputs": [],
   "source": [
    "# Devolver el array a su estado original\n",
    "print(\"Array_uni: \\n\", array1)"
   ]
  },
  {
   "cell_type": "markdown",
   "id": "449e6fe9-23f4-48b4-905d-a9f30f022995",
   "metadata": {},
   "source": [
    "## Operaciones Aritméticas con Arrays"
   ]
  },
  {
   "cell_type": "code",
   "execution_count": null,
   "id": "d1816667-a521-45ae-84a8-668f48eb4487",
   "metadata": {},
   "outputs": [],
   "source": [
    "array1 = np.arange(2,18,2)\n",
    "array = np.arange(8)\n",
    "print(\""
   ]
  }
 ],
 "metadata": {
  "kernelspec": {
   "display_name": "Python 3 (ipykernel)",
   "language": "python",
   "name": "python3"
  },
  "language_info": {
   "codemirror_mode": {
    "name": "ipython",
    "version": 3
   },
   "file_extension": ".py",
   "mimetype": "text/x-python",
   "name": "python",
   "nbconvert_exporter": "python",
   "pygments_lexer": "ipython3",
   "version": "3.9.19"
  }
 },
 "nbformat": 4,
 "nbformat_minor": 5
}
