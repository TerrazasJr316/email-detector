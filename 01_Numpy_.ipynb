{
 "cells": [
  {
   "cell_type": "markdown",
   "id": "ef3055e7-b69b-4547-a726-d5e1c2c01150",
   "metadata": {},
   "source": [
    "# Introducción a Numpy"
   ]
  },
  {
   "cell_type": "markdown",
   "id": "2ada789e-177e-4332-8deb-d3eb1b99df46",
   "metadata": {},
   "source": [
    "([Numpy]()) es una librería para la computación con Python\n",
    "* Proporciona Arrays N-Dimensiones.\n",
    "* Implementa funciones matemáticas sofisticadas\n",
    "* Proporciona herramientas para integrar C/C++ y Fortran.\n",
    "* Proporciona mecanismos para facilitar la realización de las tareas relacionadas con álgebra lineal o numeros aleatorios"
   ]
  },
  {
   "cell_type": "markdown",
   "id": "ec955300-09e2-46d4-b910-358450126b74",
   "metadata": {},
   "source": [
    "## Imports"
   ]
  },
  {
   "cell_type": "code",
   "execution_count": 1,
   "id": "f726f851-a792-4973-ba8d-da6f145039db",
   "metadata": {},
   "outputs": [],
   "source": [
    "import numpy as np"
   ]
  },
  {
   "cell_type": "markdown",
   "id": "6def74b0-daec-406b-9400-f3149f00c869",
   "metadata": {},
   "source": [
    "## Arrays\n",
    "un **array** es una estructura de datos que consiste en una colección de elementos (valores o variables), cada uno identificado por almenos un índice o clave. Un array se almacena de modo que la posición de cada elemento se almacena de modo de la posición de cada elemento que se pueda calcular a partir de su tupla de índice, mediante una fórmula matemática. El tipo más simple de array es de un array lineal, también llamado array unidimensional\n",
    "\n",
    "En Numpy:\n",
    "* Cada dimensión se donomina axis.\n",
    "* El número de dimensiones se denomina rank.\n",
    "* La lista de domensiones con su correspondiente longitud se denomina shape\n",
    "* El número total de elementos (multiplicación de la longitud de las dimensiones) se denomina size."
   ]
  },
  {
   "cell_type": "code",
   "execution_count": 2,
   "id": "f6e887b7-0f28-4540-9de6-c24bbe4b7438",
   "metadata": {},
   "outputs": [
    {
     "data": {
      "text/plain": [
       "array([[0., 0., 0., 0.],\n",
       "       [0., 0., 0., 0.]])"
      ]
     },
     "execution_count": 2,
     "metadata": {},
     "output_type": "execute_result"
    }
   ],
   "source": [
    "# Array cuyos valores son todos 0.\n",
    "a = np.zeros((2,4))\n",
    "a"
   ]
  },
  {
   "cell_type": "markdown",
   "id": "ed6f1d01-9a53-4dc5-a75b-e61bb6b2f23e",
   "metadata": {},
   "source": [
    "a es un array:\n",
    "* Con dos axis, el primero de longitud 2 y suguido de longitud 4\n",
    "* Con un rank igual a 2.\n",
    "* Con un shape igual (2,4).\n",
    "* Con un size igual a 8."
   ]
  },
  {
   "cell_type": "code",
   "execution_count": 3,
   "id": "5e590024-acdf-4b91-a815-b59f067bb1fc",
   "metadata": {},
   "outputs": [
    {
     "data": {
      "text/plain": [
       "8"
      ]
     },
     "execution_count": 3,
     "metadata": {},
     "output_type": "execute_result"
    }
   ],
   "source": [
    "a.size"
   ]
  },
  {
   "cell_type": "markdown",
   "id": "5b755b10-15ef-4a51-96a5-5e120d0bbda2",
   "metadata": {},
   "source": [
    "## Creación de arrays"
   ]
  },
  {
   "cell_type": "code",
   "execution_count": 4,
   "id": "fc77ced6-260f-4612-a31a-801629c4a975",
   "metadata": {},
   "outputs": [
    {
     "data": {
      "text/plain": [
       "array([[[0., 0., 0., 0.],\n",
       "        [0., 0., 0., 0.],\n",
       "        [0., 0., 0., 0.]],\n",
       "\n",
       "       [[0., 0., 0., 0.],\n",
       "        [0., 0., 0., 0.],\n",
       "        [0., 0., 0., 0.]]])"
      ]
     },
     "execution_count": 4,
     "metadata": {},
     "output_type": "execute_result"
    }
   ],
   "source": [
    "# Array cuyos valores son todos 0.\n",
    "\n",
    "np.zeros((2,3,4))"
   ]
  },
  {
   "cell_type": "code",
   "execution_count": 5,
   "id": "605ce561-e47b-494a-a860-a7d2b67ff254",
   "metadata": {},
   "outputs": [
    {
     "data": {
      "text/plain": [
       "array([[[1., 1., 1., 1.],\n",
       "        [1., 1., 1., 1.],\n",
       "        [1., 1., 1., 1.]],\n",
       "\n",
       "       [[1., 1., 1., 1.],\n",
       "        [1., 1., 1., 1.],\n",
       "        [1., 1., 1., 1.]]])"
      ]
     },
     "execution_count": 5,
     "metadata": {},
     "output_type": "execute_result"
    }
   ],
   "source": [
    "# Array cuyos valores son todos 1.\n",
    "np.ones((2,3,4,))"
   ]
  },
  {
   "cell_type": "code",
   "execution_count": 6,
   "id": "e6471231-503c-4554-9383-cadb2bf7b9eb",
   "metadata": {},
   "outputs": [
    {
     "data": {
      "text/plain": [
       "array([[[8, 8, 8, 8],\n",
       "        [8, 8, 8, 8],\n",
       "        [8, 8, 8, 8]],\n",
       "\n",
       "       [[8, 8, 8, 8],\n",
       "        [8, 8, 8, 8],\n",
       "        [8, 8, 8, 8]]])"
      ]
     },
     "execution_count": 6,
     "metadata": {},
     "output_type": "execute_result"
    }
   ],
   "source": [
    "# Array cuyos valores son todos el valor indicado como segundo parámetro de la función.\n",
    "np.full((2,3,4),8)"
   ]
  },
  {
   "cell_type": "code",
   "execution_count": 7,
   "id": "f58bd848-7577-4dc4-96b6-48df1a317c5c",
   "metadata": {},
   "outputs": [
    {
     "data": {
      "text/plain": [
       "array([[[2.06660797e-316, 0.00000000e+000, 0.00000000e+000,\n",
       "         0.00000000e+000, 0.00000000e+000, 0.00000000e+000,\n",
       "         0.00000000e+000, 0.00000000e+000, 0.00000000e+000],\n",
       "        [0.00000000e+000, 0.00000000e+000, 0.00000000e+000,\n",
       "         0.00000000e+000, 0.00000000e+000, 0.00000000e+000,\n",
       "         0.00000000e+000, 0.00000000e+000, 0.00000000e+000],\n",
       "        [0.00000000e+000, 0.00000000e+000, 0.00000000e+000,\n",
       "         0.00000000e+000, 0.00000000e+000, 0.00000000e+000,\n",
       "         0.00000000e+000, 0.00000000e+000, 0.00000000e+000]],\n",
       "\n",
       "       [[0.00000000e+000, 0.00000000e+000, 0.00000000e+000,\n",
       "         0.00000000e+000, 0.00000000e+000, 0.00000000e+000,\n",
       "         0.00000000e+000, 0.00000000e+000, 0.00000000e+000],\n",
       "        [0.00000000e+000, 0.00000000e+000, 0.00000000e+000,\n",
       "         0.00000000e+000, 0.00000000e+000, 0.00000000e+000,\n",
       "         0.00000000e+000, 0.00000000e+000, 0.00000000e+000],\n",
       "        [0.00000000e+000, 0.00000000e+000, 0.00000000e+000,\n",
       "         0.00000000e+000, 0.00000000e+000, 0.00000000e+000,\n",
       "         0.00000000e+000, 0.00000000e+000, 0.00000000e+000]]])"
      ]
     },
     "execution_count": 7,
     "metadata": {},
     "output_type": "execute_result"
    }
   ],
   "source": [
    "# El resultado de numpy.empty no es predecible \n",
    "# Se inicializa con los valores del array con lo que haya en memeroia en ese momento\n",
    "np.empty((2,3,9))"
   ]
  },
  {
   "cell_type": "code",
   "execution_count": 8,
   "id": "ac81a004-9440-4c23-9158-24bc579c63e3",
   "metadata": {},
   "outputs": [
    {
     "data": {
      "text/plain": [
       "array([[1, 2, 3],\n",
       "       [4, 5, 6]])"
      ]
     },
     "execution_count": 8,
     "metadata": {},
     "output_type": "execute_result"
    }
   ],
   "source": [
    "# Inicializar el array utilizando un array de Python.\n",
    "b = np.array([[1,2,3],[4,5,6]])\n",
    "b"
   ]
  },
  {
   "cell_type": "code",
   "execution_count": 9,
   "id": "8665aa03-d3d8-4a99-84ed-ced8fcd3444d",
   "metadata": {},
   "outputs": [
    {
     "data": {
      "text/plain": [
       "(2, 3)"
      ]
     },
     "execution_count": 9,
     "metadata": {},
     "output_type": "execute_result"
    }
   ],
   "source": [
    "b.shape"
   ]
  },
  {
   "cell_type": "code",
   "execution_count": 10,
   "id": "61f54fda-e2b4-48d9-a5da-aa9154d2ca77",
   "metadata": {},
   "outputs": [
    {
     "name": "stdout",
     "output_type": "stream",
     "text": [
      "[0.         0.66666667 1.33333333 2.         2.66666667 3.33333333\n",
      " 4.         4.66666667 5.33333333 6.        ]\n"
     ]
    }
   ],
   "source": [
    "# Crear un array utilizando una función basada en rangos.\n",
    "# (minimo, maximo, numero de elementos del array)\n",
    "print(np.linspace(0,6,10))"
   ]
  },
  {
   "cell_type": "code",
   "execution_count": 11,
   "id": "d4fb8135-f8c2-4f1b-8e94-d28679c284f4",
   "metadata": {},
   "outputs": [
    {
     "data": {
      "text/plain": [
       "array([[[0.22427435, 0.92778049, 0.21943488, 0.48284234],\n",
       "        [0.63570188, 0.47585291, 0.43913049, 0.52362142],\n",
       "        [0.97639614, 0.39949187, 0.79331771, 0.44257217]],\n",
       "\n",
       "       [[0.23684068, 0.42149448, 0.00490627, 0.74701002],\n",
       "        [0.83256251, 0.64103267, 0.24346295, 0.56704928],\n",
       "        [0.24527921, 0.50522018, 0.50638388, 0.54176262]],\n",
       "\n",
       "       [[0.92154743, 0.65599903, 0.82921213, 0.8756939 ],\n",
       "        [0.86769595, 0.81817565, 0.09517309, 0.1318516 ],\n",
       "        [0.70222816, 0.73866362, 0.4086024 , 0.48857659]]])"
      ]
     },
     "execution_count": 11,
     "metadata": {},
     "output_type": "execute_result"
    }
   ],
   "source": [
    "# Inicializar el array con valores aleatorios\n",
    "np.random.rand(3,3,4)"
   ]
  },
  {
   "cell_type": "code",
   "execution_count": 12,
   "id": "420ebeda-1439-4727-a1f7-ac7ad585b80a",
   "metadata": {},
   "outputs": [
    {
     "data": {
      "text/plain": [
       "array([[-0.95619625, -0.55879026, -0.25027665, -2.31676778],\n",
       "       [-1.9383651 ,  0.62961485,  0.69742562,  0.40261263]])"
      ]
     },
     "execution_count": 12,
     "metadata": {},
     "output_type": "execute_result"
    }
   ],
   "source": [
    "# Iniciar array con valores aleatorios conforme a una distribución normal.\n",
    "np.random.randn(2,4)"
   ]
  },
  {
   "cell_type": "code",
   "execution_count": 13,
   "id": "eaedc3fb-0c84-4e4d-abba-e0b7e7c3808b",
   "metadata": {},
   "outputs": [
    {
     "data": {
      "image/png": "[encoded data removed]",
      "text/plain": [
       "<Figure size 640x480 with 1 Axes>"
      ]
     },
     "metadata": {},
     "output_type": "display_data"
    }
   ],
   "source": [
    "%matplotlib inline\n",
    "import matplotlib.pyplot as plt\n",
    "\n",
    "c = np.random.randn(1000000)\n",
    "plt.hist(c,bins=600)\n",
    "plt.show()"
   ]
  },
  {
   "cell_type": "code",
   "execution_count": 14,
   "id": "0e657b10-3e69-453f-87ec-6e9c9a43ba98",
   "metadata": {},
   "outputs": [
    {
     "data": {
      "text/plain": [
       "array([[ 0.,  2.,  4.,  6.,  8.],\n",
       "       [ 1.,  3.,  5.,  7.,  9.],\n",
       "       [ 2.,  4.,  6.,  8., 10.]])"
      ]
     },
     "execution_count": 14,
     "metadata": {},
     "output_type": "execute_result"
    }
   ],
   "source": [
    "# Inicializar un array, utilizando una función personalizada.\n",
    "\n",
    "def func(x,y):\n",
    "    return x + 2 * y\n",
    "\n",
    "np.fromfunction(func, (3,5))"
   ]
  },
  {
   "cell_type": "markdown",
   "id": "5e977276-4371-4723-bee1-afc826619d75",
   "metadata": {},
   "source": [
    "## Acceso a los elementos de un array\n",
    "## Array Unidimensional"
   ]
  },
  {
   "cell_type": "code",
   "execution_count": 15,
   "id": "2f0b9a9e-43a4-4630-b199-e3116ec94a75",
   "metadata": {},
   "outputs": [
    {
     "name": "stdout",
     "output_type": "stream",
     "text": [
      "Shape:  (6,)\n",
      "Array_uni [ 1  3  5  7  9 11]\n"
     ]
    }
   ],
   "source": [
    "# Acceder a los elementos de un array.\n",
    "\n",
    "array_uni = np.array([1,3,5,7,9,11])\n",
    "print(\"Shape: \", array_uni.shape)\n",
    "print(\"Array_uni\", array_uni)"
   ]
  },
  {
   "cell_type": "code",
   "execution_count": 16,
   "id": "00f7b677-fc7d-4e35-b7bd-9ec578e259c9",
   "metadata": {},
   "outputs": [
    {
     "data": {
      "text/plain": [
       "np.int64(9)"
      ]
     },
     "execution_count": 16,
     "metadata": {},
     "output_type": "execute_result"
    }
   ],
   "source": [
    "# Accediendo al quinto elemento del array.\n",
    "array_uni[4]"
   ]
  },
  {
   "cell_type": "code",
   "execution_count": 17,
   "id": "e56b185f-fbdf-4c10-a006-5488e655af2a",
   "metadata": {},
   "outputs": [
    {
     "data": {
      "text/plain": [
       "array([5, 7])"
      ]
     },
     "execution_count": 17,
     "metadata": {},
     "output_type": "execute_result"
    }
   ],
   "source": [
    "# Acceder al tercer y cuarto elemento del array.\n",
    "array_uni[2:4]"
   ]
  },
  {
   "cell_type": "markdown",
   "id": "e089c178-74b6-4eeb-8e95-315141930410",
   "metadata": {},
   "source": [
    "### Array Multidimensional"
   ]
  },
  {
   "cell_type": "code",
   "execution_count": 18,
   "id": "598b14d8-2ef7-4e62-a128-5699179cf28b",
   "metadata": {},
   "outputs": [
    {
     "name": "stdout",
     "output_type": "stream",
     "text": [
      "Shape:  (2, 4)\n",
      "Array_uni: \n",
      " [[1 2 3 4]\n",
      " [5 6 7 8]]\n"
     ]
    }
   ],
   "source": [
    "# Crear un array multidimensional\n",
    "array_multi = np.array([[1,2,3,4],[5,6,7,8]])\n",
    "print(\"Shape: \", array_multi.shape)\n",
    "print(\"Array_uni: \\n\", array_multi)"
   ]
  },
  {
   "cell_type": "code",
   "execution_count": 19,
   "id": "31a18575-9759-4d1f-896d-ebcdd3747dfa",
   "metadata": {},
   "outputs": [
    {
     "data": {
      "text/plain": [
       "np.int64(4)"
      ]
     },
     "execution_count": 19,
     "metadata": {},
     "output_type": "execute_result"
    }
   ],
   "source": [
    "# Acceder al cuarto elemento del array.\n",
    "array_multi[0,3]"
   ]
  },
  {
   "cell_type": "code",
   "execution_count": 20,
   "id": "09cc9f97-edba-4a22-ae95-ed2cf2764278",
   "metadata": {},
   "outputs": [
    {
     "data": {
      "text/plain": [
       "array([5, 6, 7, 8])"
      ]
     },
     "execution_count": 20,
     "metadata": {},
     "output_type": "execute_result"
    }
   ],
   "source": [
    "# Acceder a la segunda fila del array\n",
    "array_multi[1, :]"
   ]
  },
  {
   "cell_type": "code",
   "execution_count": 21,
   "id": "b54b4b0c-251c-42cb-b43d-3066a0514799",
   "metadata": {},
   "outputs": [
    {
     "data": {
      "text/plain": [
       "array([3, 7])"
      ]
     },
     "execution_count": 21,
     "metadata": {},
     "output_type": "execute_result"
    }
   ],
   "source": [
    "# Acceder al primer elemento de las dos primeras fillas del array\n",
    "array_multi[0:2,2]"
   ]
  },
  {
   "cell_type": "markdown",
   "id": "eda8965d-f829-41ab-974f-cd6e8655a854",
   "metadata": {},
   "source": [
    "## Modificación de un array"
   ]
  },
  {
   "cell_type": "code",
   "execution_count": 22,
   "id": "d21225fd-3987-45c2-ac38-83b110a2d974",
   "metadata": {},
   "outputs": [
    {
     "name": "stdout",
     "output_type": "stream",
     "text": [
      "Shape:  (28,)\n",
      "Array_uni: \n",
      " [ 0  1  2  3  4  5  6  7  8  9 10 11 12 13 14 15 16 17 18 19 20 21 22 23\n",
      " 24 25 26 27]\n"
     ]
    }
   ],
   "source": [
    "# Crear un arreglo unidimensional e inicializarlo con un rando\n",
    "# de elementos 0 - 27\n",
    "\n",
    "array1 = np.arange(28)\n",
    "print(\"Shape: \", array1.shape)\n",
    "print(\"Array_uni: \\n\", array1)"
   ]
  },
  {
   "cell_type": "code",
   "execution_count": 23,
   "id": "5029091b-86ed-413e-b645-2a49434f3ea7",
   "metadata": {},
   "outputs": [
    {
     "name": "stdout",
     "output_type": "stream",
     "text": [
      "Shape:  (7, 4)\n",
      "Array_uni: \n",
      " [[ 0  1  2  3]\n",
      " [ 4  5  6  7]\n",
      " [ 8  9 10 11]\n",
      " [12 13 14 15]\n",
      " [16 17 18 19]\n",
      " [20 21 22 23]\n",
      " [24 25 26 27]]\n"
     ]
    }
   ],
   "source": [
    "# Cambiar las dimensiones del array y sus longitudes\n",
    "array1.shape = (7,4)\n",
    "print(\"Shape: \", array1.shape)\n",
    "print(\"Array_uni: \\n\", array1)"
   ]
  },
  {
   "cell_type": "code",
   "execution_count": 24,
   "id": "d34c8756-cbcb-42f8-bcd0-129a5c960b48",
   "metadata": {},
   "outputs": [
    {
     "name": "stdout",
     "output_type": "stream",
     "text": [
      "Shape:  (4, 7)\n",
      "Array_uni: \n",
      " [[ 0  1  2  3  4  5  6]\n",
      " [ 7  8  9 10 11 12 13]\n",
      " [14 15 16 17 18 19 20]\n",
      " [21 22 23 24 25 26 27]]\n"
     ]
    }
   ],
   "source": [
    "# El ejemplo anterior devuelve un nuevo array que apunta a los mismos datos.\n",
    "# Nota: modificaciones en el array, modificaran el otro array.\n",
    "\n",
    "array2= array1.reshape(4,7)\n",
    "print(\"Shape: \", array2.shape)\n",
    "print(\"Array_uni: \\n\", array2)\n"
   ]
  },
  {
   "cell_type": "code",
   "execution_count": 25,
   "id": "68180826-4e01-43ed-b287-9b6c75da0531",
   "metadata": {},
   "outputs": [],
   "source": [
    "# Modificación del nuevo array devuelto\n",
    "\n",
    "# array2[1, 3] = 30\n",
    "#print(\"Array_uni: \\n\", array2)"
   ]
  },
  {
   "cell_type": "code",
   "execution_count": 26,
   "id": "637e4d03-d708-4215-a84d-f7cb47c4ed0d",
   "metadata": {},
   "outputs": [
    {
     "name": "stdout",
     "output_type": "stream",
     "text": [
      "Array_uni: \n",
      " [[ 0  1  2  3]\n",
      " [ 4  5  6  7]\n",
      " [ 8  9 10 11]\n",
      " [12 13 14 15]\n",
      " [16 17 18 19]\n",
      " [20 21 22 23]\n",
      " [24 25 26 27]]\n"
     ]
    }
   ],
   "source": [
    "\n",
    "print(\"Array_uni: \\n\", array1)"
   ]
  },
  {
   "cell_type": "code",
   "execution_count": 27,
   "id": "d4de3295-d629-4db7-a2b8-823427340ab6",
   "metadata": {},
   "outputs": [
    {
     "name": "stdout",
     "output_type": "stream",
     "text": [
      "Array_uni: \n",
      " [[ 0  1  2  3]\n",
      " [ 4  5  6  7]\n",
      " [ 8  9 10 11]\n",
      " [12 13 14 15]\n",
      " [16 17 18 19]\n",
      " [20 21 22 23]\n",
      " [24 25 26 27]]\n"
     ]
    }
   ],
   "source": [
    "# Devolver el array a su estado original\n",
    "print(\"Array_uni: \\n\", array1)"
   ]
  },
  {
   "cell_type": "markdown",
   "id": "449e6fe9-23f4-48b4-905d-a9f30f022995",
   "metadata": {},
   "source": [
    "## Operaciones Aritméticas con Arrays"
   ]
  },
  {
   "cell_type": "code",
   "execution_count": 28,
   "id": "d1816667-a521-45ae-84a8-668f48eb4487",
   "metadata": {},
   "outputs": [
    {
     "name": "stdout",
     "output_type": "stream",
     "text": [
      "Array 1:  [ 2  4  6  8 10 12 14 16]\n",
      "Array 2:  [0 1 2 3 4 5 6 7]\n"
     ]
    }
   ],
   "source": [
    "array1 = np.arange(2,18,2)\n",
    "array2 = np.arange(8)\n",
    "print(\"Array 1: \", array1)\n",
    "print(\"Array 2: \", array2)"
   ]
  },
  {
   "cell_type": "code",
   "execution_count": 29,
   "id": "b5158aa5-1663-4878-91d9-fe3a2a3aec41",
   "metadata": {},
   "outputs": [
    {
     "name": "stdout",
     "output_type": "stream",
     "text": [
      "[ 2  5  8 11 14 17 20 23]\n"
     ]
    }
   ],
   "source": [
    "# Suma \n",
    "print(array1 + array2)"
   ]
  },
  {
   "cell_type": "code",
   "execution_count": 30,
   "id": "7b287e23-52db-437f-94ef-6d50d573e0d1",
   "metadata": {},
   "outputs": [
    {
     "name": "stdout",
     "output_type": "stream",
     "text": [
      "[2 3 4 5 6 7 8 9]\n"
     ]
    }
   ],
   "source": [
    "# Resta\n",
    "print(array1 - array2)"
   ]
  },
  {
   "cell_type": "code",
   "execution_count": 31,
   "id": "5a1a7231-ee08-471d-be35-a77479b151b5",
   "metadata": {},
   "outputs": [
    {
     "name": "stdout",
     "output_type": "stream",
     "text": [
      "[  0   4  12  24  40  60  84 112]\n"
     ]
    }
   ],
   "source": [
    "# Multiplicación\n",
    "# Nota: No es una multiplicación de matrices\n",
    "print(array1 * array2)"
   ]
  },
  {
   "cell_type": "markdown",
   "id": "f770b849-aaff-4aac-a9c2-f8a65c4ee2c8",
   "metadata": {},
   "source": [
    "## Broadcasting"
   ]
  },
  {
   "cell_type": "markdown",
   "id": "b5b79c7d-c0ef-440b-aa18-3d28ebe9cc5e",
   "metadata": {},
   "source": [
    "Si se aplican operaciones arritméticas sobre arrays que no se tienen de la misma forma (shape), Numpy aplica una propiedad que se llama\n",
    "Broadcasting"
   ]
  },
  {
   "cell_type": "code",
   "execution_count": 35,
   "id": "dcdae5c8-1723-409e-8661-725e8a6fb857",
   "metadata": {},
   "outputs": [
    {
     "name": "stdout",
     "output_type": "stream",
     "text": [
      "Shape:  (5,)\n",
      "Array1:\n",
      " [0 1 2 3 4]\n",
      "\n",
      "\n",
      "Shape:  (1,)\n",
      "Array2:\n",
      "\n"
     ]
    },
    {
     "data": {
      "text/plain": [
       "(None, array([3]))"
      ]
     },
     "execution_count": 35,
     "metadata": {},
     "output_type": "execute_result"
    }
   ],
   "source": [
    "array1 = np.arange(5)\n",
    "array2 = np.array([3])\n",
    "print(\"Shape: \", array1.shape)\n",
    "print(\"Array1:\\n\", array1)\n",
    "print(\"\\n\")\n",
    "print(\"Shape: \", array2.shape)\n",
    "print(\"Array2:\\n\"), array2"
   ]
  },
  {
   "cell_type": "code",
   "execution_count": 36,
   "id": "a357190b-d752-49e6-ba48-fafe461687ff",
   "metadata": {},
   "outputs": [
    {
     "data": {
      "text/plain": [
       "array([3, 4, 5, 6, 7])"
      ]
     },
     "execution_count": 36,
     "metadata": {},
     "output_type": "execute_result"
    }
   ],
   "source": [
    "# Suma de ambos arrays\n",
    "array1 + array2"
   ]
  },
  {
   "cell_type": "code",
   "execution_count": null,
   "id": "f33ea5a7-d0b9-45b5-92fb-6e32a77ebab1",
   "metadata": {},
   "outputs": [],
   "source": [
    "# Multiplicación\n",
    "array1 * array2"
   ]
  },
  {
   "cell_type": "markdown",
   "id": "08116fab-0ac9-410a-9d06-9ddea38334c5",
   "metadata": {},
   "source": [
    "## Funciones estadisticas sobre Arrays"
   ]
  },
  {
   "cell_type": "code",
   "execution_count": 38,
   "id": "75015673-bdd1-4b5e-bfc5-6c52826845e1",
   "metadata": {},
   "outputs": [
    {
     "name": "stdout",
     "output_type": "stream",
     "text": [
      "Array1:\n",
      "2 [ 1  3  5  7  9 11 13 15 17 19]\n"
     ]
    }
   ],
   "source": [
    "# Creación de un array unidimensional\n",
    "array1 = np.arange(1,20,2)\n",
    "print(\"Array1:\\n2\", array1)"
   ]
  },
  {
   "cell_type": "code",
   "execution_count": 40,
   "id": "9af33ea1-6bb3-4517-9cf1-20e9ee60b23c",
   "metadata": {},
   "outputs": [
    {
     "data": {
      "text/plain": [
       "np.float64(10.0)"
      ]
     },
     "execution_count": 40,
     "metadata": {},
     "output_type": "execute_result"
    }
   ],
   "source": [
    "# Media de los elementos del array\n",
    "np.mean(array1)"
   ]
  },
  {
   "cell_type": "code",
   "execution_count": 41,
   "id": "9f06f736-8c45-42aa-b00f-02d50927eafd",
   "metadata": {},
   "outputs": [
    {
     "data": {
      "text/plain": [
       "np.int64(100)"
      ]
     },
     "execution_count": 41,
     "metadata": {},
     "output_type": "execute_result"
    }
   ],
   "source": [
    "# Suma de los elementos del array\n",
    "np.sum(array1)"
   ]
  },
  {
   "cell_type": "markdown",
   "id": "6b79d456-dc00-45bc-9082-72bb1d4da49d",
   "metadata": {},
   "source": [
    "Funciones universales proporcionadas por numpy: **ufunc**"
   ]
  },
  {
   "cell_type": "code",
   "execution_count": 42,
   "id": "b6c07b84-0920-449a-94c8-b399548619ac",
   "metadata": {},
   "outputs": [
    {
     "data": {
      "text/plain": [
       "array([1.        , 1.73205081, 2.23606798, 2.64575131, 3.        ,\n",
       "       3.31662479, 3.60555128, 3.87298335, 4.12310563, 4.35889894])"
      ]
     },
     "execution_count": 42,
     "metadata": {},
     "output_type": "execute_result"
    }
   ],
   "source": [
    "# Cuadrado de los elementos del array\n",
    "np.sqrt(array1)"
   ]
  },
  {
   "cell_type": "code",
   "execution_count": 43,
   "id": "cb49a1be-466e-4406-9965-e5348a6112e9",
   "metadata": {},
   "outputs": [
    {
     "data": {
      "text/plain": [
       "array([2.71828183e+00, 2.00855369e+01, 1.48413159e+02, 1.09663316e+03,\n",
       "       8.10308393e+03, 5.98741417e+04, 4.42413392e+05, 3.26901737e+06,\n",
       "       2.41549528e+07, 1.78482301e+08])"
      ]
     },
     "execution_count": 43,
     "metadata": {},
     "output_type": "execute_result"
    }
   ],
   "source": [
    "# Expionencial de los elementos del array\n",
    "np.exp(array1)"
   ]
  },
  {
   "cell_type": "code",
   "execution_count": 44,
   "id": "84ff9e8e-5a3d-4665-abb0-0d58e9218135",
   "metadata": {},
   "outputs": [
    {
     "data": {
      "text/plain": [
       "array([0.        , 1.09861229, 1.60943791, 1.94591015, 2.19722458,\n",
       "       2.39789527, 2.56494936, 2.7080502 , 2.83321334, 2.94443898])"
      ]
     },
     "execution_count": 44,
     "metadata": {},
     "output_type": "execute_result"
    }
   ],
   "source": [
    "# log de los elementos del array\n",
    "np.log(array1)"
   ]
  },
  {
   "cell_type": "code",
   "execution_count": null,
   "id": "54b936e3-08e2-4dc6-b69a-68c812369709",
   "metadata": {},
   "outputs": [],
   "source": []
  }
 ],
 "metadata": {
  "kernelspec": {
   "display_name": "Python 3 (ipykernel)",
   "language": "python",
   "name": "python3"
  },
  "language_info": {
   "codemirror_mode": {
    "name": "ipython",
    "version": 3
   },
   "file_extension": ".py",
   "mimetype": "text/x-python",
   "name": "python",
   "nbconvert_exporter": "python",
   "pygments_lexer": "ipython3",
   "version": "3.10.13"
  }
 },
 "nbformat": 4,
 "nbformat_minor": 5
}
