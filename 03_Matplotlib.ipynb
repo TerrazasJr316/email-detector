{
 "cells": [
  {
   "cell_type": "markdown",
   "id": "c85aab47-abbd-471f-92ca-01022ebae6fb",
   "metadata": {},
   "source": [
    "# Introducción a Matplotlib"
   ]
  },
  {
   "cell_type": "markdown",
   "id": "ef0d6c21-0739-4e57-a16c-f6ea2f41d79f",
   "metadata": {},
   "source": [
    "[Matplotlib](http://matplotlib.org) es una biblioteca que permite la creación de figuras y gráficos de calidad mediante el uso de Python.\n",
    "* Permite la creación de gráficos de manera sencilla y eficiente.\n",
    "* Permite la integración de gráficos y figuras en un Jupyter Notebook"
   ]
  },
  {
   "cell_type": "code",
   "execution_count": 4,
   "id": "a9675cb7-a7c4-4dab-88ff-cbd2b13945f8",
   "metadata": {},
   "outputs": [],
   "source": [
    "import matplotlib\n",
    "import matplotlib.pyplot as plt"
   ]
  },
  {
   "cell_type": "code",
   "execution_count": null,
   "id": "2446d033-8107-4b91-b062-bfc8a35a5e79",
   "metadata": {},
   "outputs": [],
   "source": [
    "# "
   ]
  }
 ],
 "metadata": {
  "kernelspec": {
   "display_name": "Python 3 (ipykernel)",
   "language": "python",
   "name": "python3"
  },
  "language_info": {
   "codemirror_mode": {
    "name": "ipython",
    "version": 3
   },
   "file_extension": ".py",
   "mimetype": "text/x-python",
   "name": "python",
   "nbconvert_exporter": "python",
   "pygments_lexer": "ipython3",
   "version": "3.9.19"
  }
 },
 "nbformat": 4,
 "nbformat_minor": 5
}
