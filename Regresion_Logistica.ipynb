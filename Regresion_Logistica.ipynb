{
 "cells": [
  {
   "cell_type": "markdown",
   "id": "046baee7-7979-49bd-9414-596aaea31c6c",
   "metadata": {},
   "source": [
    "# Regresión Logística: Detención de SPAM\n",
    "\n",
    "En este ejercicio se muestra los funamentos de la regresión logística, planteando uno de los primeros problemas que fueron solucionados, mediante el uso técnicas de Machine Learning La Detección de SPAM.\n",
    "\n",
    "## Enunciado del ejercicio\n",
    "\n",
    "Se propone la contrucción de un sistema de aprendizaje automático capaz de predecir, si un correo determinado se corresponde con un correo SPAM o no, para ello se utilizará el siguiente DataSet:\n",
    "\n",
    "##### [2007/Trec public SPAM Corpus](https://plg.uwaterloo.ca/cgi-bin/cgiwrap/gvcormac/foo07)\n",
    "\n",
    "The corpus trec07p contains 75,419 messages:\n",
    "\n",
    "    25220 ham\n",
    "    50199 spam\n",
    "\n",
    "These messages constitute all the messages delivered to a particular\n",
    "server between these dates:\n",
    "\n",
    "    Sun, 8 Apr 2007 13:07:21 -0400\n",
    "    Fri, 6 Jul 2007 07:04:53 -0400"
   ]
  },
  {
   "cell_type": "code",
   "execution_count": 1,
   "id": "1df73989-530c-4405-b0db-d192a21e44c6",
   "metadata": {},
   "outputs": [],
   "source": [
    "# En esta clase se facilita el procesamiento de correos electronicos que poseen código HTML\n",
    "\n",
    "from html.parser import HTMLParser\n",
    "\n",
    "\n",
    "class MLStripper(HTMLParser):\n",
    "    def __init__(self):\n",
    "        self.reset()\n",
    "        self.strict = False\n",
    "        self.convert_charrefs = True\n",
    "        self.fed = []\n",
    "        \n",
    "    def handle_data(self, d):\n",
    "        self.fed.append(d)\n",
    "        \n",
    "    def get_data(self):\n",
    "        return ''.join(self.fed)"
   ]
  },
  {
   "cell_type": "code",
   "execution_count": 2,
   "id": "c47b3c07-532b-4561-be04-d78c85391d95",
   "metadata": {},
   "outputs": [],
   "source": [
    "# Esta función se encarga de eliminar los tags HTML que se encuentren en el texto de los correos electronicos\n",
    "\n",
    "def strip_tags(html):\n",
    "    s = MLStripper()\n",
    "    s.feed(html)\n",
    "    return s.get_data()"
   ]
  },
  {
   "cell_type": "code",
   "execution_count": 3,
   "id": "3c74a57f-8aa0-4bc7-ae4e-444ffd29d265",
   "metadata": {},
   "outputs": [
    {
     "data": {
      "text/plain": [
       "'Phrack World News'"
      ]
     },
     "execution_count": 3,
     "metadata": {},
     "output_type": "execute_result"
    }
   ],
   "source": [
    "# Ejemplo de eliminación de los tags HTML de un texto\n",
    "\n",
    "t = '<tr><td align=\"left\"><ahref=\"../../issues/51/16.html#article\">Phrack World News</a><td>'\n",
    "strip_tags(t)"
   ]
  },
  {
   "cell_type": "markdown",
   "id": "b14f5b38-16d2-4efe-b1c7-aa353d8633fd",
   "metadata": {},
   "source": [
    "Además de eliminar los posible tags HTML que se encuentran en el correo electrónico, deben realizarse otras acciones para evitar que los mensajes contengan ruido inecesario. Entre ellas se encuentran la eliminación de los signos de puntación, eliminación de los posibles campos de correo electronico que no son relevantes o eliminación de los afijos de una palabra manteniendo únicamente la raiz de la misma (Stemming). La clase que se muestra a continuación realiza las transformación."
   ]
  },
  {
   "cell_type": "code",
   "execution_count": 4,
   "id": "c90fae15-1c1d-462a-8570-b661734de764",
   "metadata": {},
   "outputs": [],
   "source": [
    "import email\n",
    "import string\n",
    "import nltk\n",
    "\n",
    "class Parser:\n",
    "\n",
    "    def __init__(self):\n",
    "        self.stemmer = nltk.PorterStemmer()\n",
    "        self.stopwords = set(nltk.corpus.stopwords.words(\"english\"))\n",
    "        self.punctuation = list(string.punctuation)\n",
    "\n",
    "    def parse(self, email_path):\n",
    "        \"\"\"Parse an email._\"\"\"\n",
    "        with open(email_path, errors = 'ignore') as e:\n",
    "            msg = email.message_from_file(e)\n",
    "        return None if not msg else self.get_email_content(msg)\n",
    "\n",
    "    def get_email_content (self, email, msg):\n",
    "        \"\"\"Extract the email content.\"\"\"\n",
    "        subject = self.tokenize(msg['subject']) if msg['subject'] else []\n",
    "        body = self.get_email_boddy(msg.get_payload(), msg.get_content_type())\n",
    "        content_type = msg.get_content_type()\n",
    "        # Return the content ot the email\n",
    "        return {\n",
    "            \"subject\": subject,\n",
    "            \"body\": body,\n",
    "            \"conetent_type\": content_type\n",
    "        }\n",
    "    def get_email_body(self, payload, content_type):\n",
    "        \"\"\"Extract the body of the email\"\"\"\n",
    "        body = []\n",
    "        if type(payload) is str and content_type == 'text/plain':\n",
    "            return self.tokenize(payload)\n",
    "        elif type(payload) is str and content_type == \"text/html\":\n",
    "            return self.tokenize\n",
    "    "
   ]
  }
 ],
 "metadata": {
  "kernelspec": {
   "display_name": "Python 3 (ipykernel)",
   "language": "python",
   "name": "python3"
  },
  "language_info": {
   "codemirror_mode": {
    "name": "ipython",
    "version": 3
   },
   "file_extension": ".py",
   "mimetype": "text/x-python",
   "name": "python",
   "nbconvert_exporter": "python",
   "pygments_lexer": "ipython3",
   "version": "3.9.19"
  }
 },
 "nbformat": 4,
 "nbformat_minor": 5
}
