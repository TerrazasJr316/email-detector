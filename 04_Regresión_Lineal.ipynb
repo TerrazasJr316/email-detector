{
 "cells": [
  {
   "cell_type": "markdown",
   "id": "18eee69a-5de7-4349-aa5e-8c2530e10839",
   "metadata": {},
   "source": [
    "# Regresión Lineal: Costo de un incidente de seguridad\n",
    "En este ejercicio se explican los funamentos básicos de la regresión lineal aplicada a un caso de uso sencillo relacionada con la Ciberseguridad.\n",
    "\n",
    "## Enunciado del ejercicio\n",
    "El ejercicio consiste en predecir el costo de un insidente de seguridad en base al número de equipos que se han visto afectado. E lconjunto de datos es aleatroi"
   ]
  }
 ],
 "metadata": {
  "kernelspec": {
   "display_name": "Python 3 (ipykernel)",
   "language": "python",
   "name": "python3"
  },
  "language_info": {
   "codemirror_mode": {
    "name": "ipython",
    "version": 3
   },
   "file_extension": ".py",
   "mimetype": "text/x-python",
   "name": "python",
   "nbconvert_exporter": "python",
   "pygments_lexer": "ipython3",
   "version": "3.11.7"
  }
 },
 "nbformat": 4,
 "nbformat_minor": 5
}
